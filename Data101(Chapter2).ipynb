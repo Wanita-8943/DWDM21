{
  "nbformat": 4,
  "nbformat_minor": 0,
  "metadata": {
    "colab": {
      "name": "Data101(Chapter2).ipynb",
      "provenance": [],
      "include_colab_link": true
    },
    "kernelspec": {
      "name": "python3",
      "display_name": "Python 3"
    },
    "language_info": {
      "name": "python"
    }
  },
  "cells": [
    {
      "cell_type": "markdown",
      "metadata": {
        "id": "view-in-github",
        "colab_type": "text"
      },
      "source": [
        "<a href=\"https://colab.research.google.com/github/Wanita-8943/DWDM21/blob/main/Data101(Chapter2).ipynb\" target=\"_parent\"><img src=\"https://colab.research.google.com/assets/colab-badge.svg\" alt=\"Open In Colab\"/></a>"
      ]
    },
    {
      "cell_type": "markdown",
      "metadata": {
        "id": "1DV61f1wz1kY"
      },
      "source": [
        "ข้อความที่อยู่ใน textbox จะเป็น ภาษา markdown"
      ]
    },
    {
      "cell_type": "markdown",
      "metadata": {
        "id": "agKHQsZ-tsJb"
      },
      "source": [
        "ข้อดีหนึ่งของ Python คือมี  package สำหรับทำงานต่างๆมากมาย\n",
        "\n",
        "ซึ่ง pandas เป็น  package สำหรับการทำงานกับข้อมูลที่อยู่ในรูปแบบตาราง\n",
        "\n",
        "โดย pandas จะเรียกตารางนั้นว่า dataframe"
      ]
    },
    {
      "cell_type": "code",
      "metadata": {
        "id": "YUJVRCFXr5X7"
      },
      "source": [
        "import pandas # วิธีเเรียกใช้ package คือ import ตามด้วยชื่อ package  "
      ],
      "execution_count": null,
      "outputs": []
    },
    {
      "cell_type": "code",
      "metadata": {
        "id": "TwvJwaUQtBeu"
      },
      "source": [
        "import pandas as pd # ตั้งชื่อให้ package ที่โหลดมาใหม่ว่า pd"
      ],
      "execution_count": null,
      "outputs": []
    },
    {
      "cell_type": "markdown",
      "metadata": {
        "id": "2v6Ta3TLu1WD"
      },
      "source": [
        "ส่วนใหญ่จะใช้ไฟล์ .csv (CSV = comma seprated values) เป็นไฟล์หลักที่เราจะใช้ในวิชานี้"
      ]
    },
    {
      "cell_type": "code",
      "metadata": {
        "id": "-4M_hOyqutJO"
      },
      "source": [
        "data_df = pd.read_csv('Data.csv') #เรียกใช้ตารางที่เราสร้างโดยใช้ทำสั่ง pd.read_csv('_')"
      ],
      "execution_count": null,
      "outputs": []
    },
    {
      "cell_type": "code",
      "metadata": {
        "colab": {
          "base_uri": "https://localhost:8080/",
          "height": 142
        },
        "id": "42PYFtwcxXJr",
        "outputId": "04af4b8c-846d-4124-b212-87b5bda6bc37"
      },
      "source": [
        "data_df #แสดงตาราง data.csv"
      ],
      "execution_count": null,
      "outputs": [
        {
          "output_type": "execute_result",
          "data": {
            "text/html": [
              "<div>\n",
              "<style scoped>\n",
              "    .dataframe tbody tr th:only-of-type {\n",
              "        vertical-align: middle;\n",
              "    }\n",
              "\n",
              "    .dataframe tbody tr th {\n",
              "        vertical-align: top;\n",
              "    }\n",
              "\n",
              "    .dataframe thead th {\n",
              "        text-align: right;\n",
              "    }\n",
              "</style>\n",
              "<table border=\"1\" class=\"dataframe\">\n",
              "  <thead>\n",
              "    <tr style=\"text-align: right;\">\n",
              "      <th></th>\n",
              "      <th>Name</th>\n",
              "      <th>age</th>\n",
              "      <th>city</th>\n",
              "    </tr>\n",
              "  </thead>\n",
              "  <tbody>\n",
              "    <tr>\n",
              "      <th>0</th>\n",
              "      <td>Tom</td>\n",
              "      <td>27</td>\n",
              "      <td>Khon Kean</td>\n",
              "    </tr>\n",
              "    <tr>\n",
              "      <th>1</th>\n",
              "      <td>sarah</td>\n",
              "      <td>49</td>\n",
              "      <td>London</td>\n",
              "    </tr>\n",
              "    <tr>\n",
              "      <th>2</th>\n",
              "      <td>Paul</td>\n",
              "      <td>15</td>\n",
              "      <td>Bangkok</td>\n",
              "    </tr>\n",
              "  </tbody>\n",
              "</table>\n",
              "</div>"
            ],
            "text/plain": [
              "    Name  age       city\n",
              "0    Tom   27  Khon Kean\n",
              "1  sarah   49     London\n",
              "2   Paul   15    Bangkok"
            ]
          },
          "metadata": {
            "tags": []
          },
          "execution_count": 5
        }
      ]
    },
    {
      "cell_type": "code",
      "metadata": {
        "colab": {
          "base_uri": "https://localhost:8080/",
          "height": 142
        },
        "id": "dC7DpwdhxZOR",
        "outputId": "0884b81b-2de7-4196-f51e-6db5f4b6e94c"
      },
      "source": [
        "data_df2 = pandas.read_csv('Data.csv') \n",
        "data_df2 #ใช้คำสั่งในเซลล์เดียวกันได้"
      ],
      "execution_count": null,
      "outputs": [
        {
          "output_type": "execute_result",
          "data": {
            "text/html": [
              "<div>\n",
              "<style scoped>\n",
              "    .dataframe tbody tr th:only-of-type {\n",
              "        vertical-align: middle;\n",
              "    }\n",
              "\n",
              "    .dataframe tbody tr th {\n",
              "        vertical-align: top;\n",
              "    }\n",
              "\n",
              "    .dataframe thead th {\n",
              "        text-align: right;\n",
              "    }\n",
              "</style>\n",
              "<table border=\"1\" class=\"dataframe\">\n",
              "  <thead>\n",
              "    <tr style=\"text-align: right;\">\n",
              "      <th></th>\n",
              "      <th>Name</th>\n",
              "      <th>age</th>\n",
              "      <th>city</th>\n",
              "    </tr>\n",
              "  </thead>\n",
              "  <tbody>\n",
              "    <tr>\n",
              "      <th>0</th>\n",
              "      <td>Tom</td>\n",
              "      <td>27</td>\n",
              "      <td>Khon Kean</td>\n",
              "    </tr>\n",
              "    <tr>\n",
              "      <th>1</th>\n",
              "      <td>sarah</td>\n",
              "      <td>49</td>\n",
              "      <td>London</td>\n",
              "    </tr>\n",
              "    <tr>\n",
              "      <th>2</th>\n",
              "      <td>Paul</td>\n",
              "      <td>15</td>\n",
              "      <td>Bangkok</td>\n",
              "    </tr>\n",
              "  </tbody>\n",
              "</table>\n",
              "</div>"
            ],
            "text/plain": [
              "    Name  age       city\n",
              "0    Tom   27  Khon Kean\n",
              "1  sarah   49     London\n",
              "2   Paul   15    Bangkok"
            ]
          },
          "metadata": {
            "tags": []
          },
          "execution_count": 7
        }
      ]
    },
    {
      "cell_type": "markdown",
      "metadata": {
        "id": "0EhgloQOzjYS"
      },
      "source": [
        "# Basic Python\n",
        "## Variables ตัวแปร"
      ]
    },
    {
      "cell_type": "markdown",
      "metadata": {
        "id": "KfEuWal61jfR"
      },
      "source": [
        "ข้อกำหนดในการตั้งชื่อตัวแปร\n",
        "\n",
        "1.   ชื่อห้ามมีเว้นวรรค\n",
        "2.   พยายามใช้ภาษาอังกฤษ\n",
        "3.   ตัวเล็กกับตัวใหญ่แตกต่างกัน (case sensitive)\n",
        "4.   ห้ามใช้ตัวเลขเป็นตัวหน้า\n"
      ]
    },
    {
      "cell_type": "code",
      "metadata": {
        "id": "PUvGL-2tyRhI"
      },
      "source": [
        "variable_a = 12 #ตัวเลขไม่ต้องใส่ quote\n",
        "variable_b = 'abcde' # ' เรียกว่า quote #ข้อมูลที่เป็นตัวหนังสือให้ใส่ quote\n",
        "variable_c = variable_a #"
      ],
      "execution_count": null,
      "outputs": []
    },
    {
      "cell_type": "code",
      "metadata": {
        "colab": {
          "base_uri": "https://localhost:8080/"
        },
        "id": "qYUZWxo_1QAg",
        "outputId": "1e7dad41-23e0-481c-b086-41089d29fb34"
      },
      "source": [
        "variable_a "
      ],
      "execution_count": null,
      "outputs": [
        {
          "output_type": "execute_result",
          "data": {
            "text/plain": [
              "12"
            ]
          },
          "metadata": {
            "tags": []
          },
          "execution_count": 9
        }
      ]
    },
    {
      "cell_type": "code",
      "metadata": {
        "colab": {
          "base_uri": "https://localhost:8080/",
          "height": 35
        },
        "id": "gLu0MbBX1Qkq",
        "outputId": "b8621b83-78e4-4542-d467-8c242927f46d"
      },
      "source": [
        "variable_b"
      ],
      "execution_count": null,
      "outputs": [
        {
          "output_type": "execute_result",
          "data": {
            "application/vnd.google.colaboratory.intrinsic+json": {
              "type": "string"
            },
            "text/plain": [
              "'abcde'"
            ]
          },
          "metadata": {
            "tags": []
          },
          "execution_count": 10
        }
      ]
    },
    {
      "cell_type": "code",
      "metadata": {
        "colab": {
          "base_uri": "https://localhost:8080/"
        },
        "id": "og87oyK-1Scg",
        "outputId": "d4fe784b-7a4b-4a62-b89f-c4f283cd3a00"
      },
      "source": [
        "variable_c"
      ],
      "execution_count": null,
      "outputs": [
        {
          "output_type": "execute_result",
          "data": {
            "text/plain": [
              "12"
            ]
          },
          "metadata": {
            "tags": []
          },
          "execution_count": 11
        }
      ]
    },
    {
      "cell_type": "markdown",
      "metadata": {
        "id": "PltzlpRW2Oul"
      },
      "source": [
        "###ลองทำตามข้อกำหนด"
      ]
    },
    {
      "cell_type": "code",
      "metadata": {
        "colab": {
          "base_uri": "https://localhost:8080/",
          "height": 130
        },
        "id": "ODrQBfsP1TyH",
        "outputId": "6d56bc8c-6ce5-4a30-d989-e762d5b9d834"
      },
      "source": [
        "variable a = 6 #ชื่อห้ามมีเว้นวรรค"
      ],
      "execution_count": null,
      "outputs": [
        {
          "output_type": "error",
          "ename": "SyntaxError",
          "evalue": "ignored",
          "traceback": [
            "\u001b[0;36m  File \u001b[0;32m\"<ipython-input-12-68e26ed4af5d>\"\u001b[0;36m, line \u001b[0;32m1\u001b[0m\n\u001b[0;31m    variable a = 6 #ชื่อห้ามมีเว้นวรรค\u001b[0m\n\u001b[0m             ^\u001b[0m\n\u001b[0;31mSyntaxError\u001b[0m\u001b[0;31m:\u001b[0m invalid syntax\n"
          ]
        }
      ]
    },
    {
      "cell_type": "code",
      "metadata": {
        "colab": {
          "base_uri": "https://localhost:8080/"
        },
        "id": "PmpXh5Zn2fQq",
        "outputId": "fc444b0a-7a9d-4566-f014-a79973ea9281"
      },
      "source": [
        "#coladใช้ภาษาไทยได้แต่ไม่ควรใช้\n",
        "ตัวแปร = 3 \n",
        "ตัวแปร"
      ],
      "execution_count": null,
      "outputs": [
        {
          "output_type": "execute_result",
          "data": {
            "text/plain": [
              "3"
            ]
          },
          "metadata": {
            "tags": []
          },
          "execution_count": 13
        }
      ]
    },
    {
      "cell_type": "code",
      "metadata": {
        "colab": {
          "base_uri": "https://localhost:8080/"
        },
        "id": "RUeNZJue2qY2",
        "outputId": "7ee997af-e87a-4f0a-8220-5974937a4a79"
      },
      "source": [
        "#ตัวเล็กกับตัวใหญ่แตกต่างกัน (case sensitive)\n",
        "v_a = 1\n",
        "V_a =2\n",
        "print(v_a)\n",
        "print(V_a)"
      ],
      "execution_count": null,
      "outputs": [
        {
          "output_type": "stream",
          "text": [
            "1\n",
            "2\n"
          ],
          "name": "stdout"
        }
      ]
    },
    {
      "cell_type": "code",
      "metadata": {
        "colab": {
          "base_uri": "https://localhost:8080/"
        },
        "id": "JREbE-9Y3Yip",
        "outputId": "202b2ae4-fafa-4807-b75c-ed7918275716"
      },
      "source": [
        "#ตัวเล็กกับตัวใหญ่แตกต่างกัน (case sensitive)\n",
        "v_a = 1\n",
        "v_a =2\n",
        "print(v_a)\n",
        "print(v_a)"
      ],
      "execution_count": null,
      "outputs": [
        {
          "output_type": "stream",
          "text": [
            "2\n",
            "2\n"
          ],
          "name": "stdout"
        }
      ]
    },
    {
      "cell_type": "code",
      "metadata": {
        "colab": {
          "base_uri": "https://localhost:8080/",
          "height": 130
        },
        "id": "ABXhFY-l222q",
        "outputId": "826f828a-8f02-49d9-e840-3f5429353063"
      },
      "source": [
        "#ห้ามใช้ตัวเลขเป็นตัวหน้า\n",
        "2ab = 1"
      ],
      "execution_count": null,
      "outputs": [
        {
          "output_type": "error",
          "ename": "SyntaxError",
          "evalue": "ignored",
          "traceback": [
            "\u001b[0;36m  File \u001b[0;32m\"<ipython-input-16-b408d3f2d8a4>\"\u001b[0;36m, line \u001b[0;32m2\u001b[0m\n\u001b[0;31m    2ab = 1\u001b[0m\n\u001b[0m      ^\u001b[0m\n\u001b[0;31mSyntaxError\u001b[0m\u001b[0;31m:\u001b[0m invalid syntax\n"
          ]
        }
      ]
    },
    {
      "cell_type": "code",
      "metadata": {
        "id": "eWsZ-IDZ3zyA"
      },
      "source": [
        "#ห้ามใช้ตัวเลขเป็นตัวหน้า\n",
        "variable1 = 1"
      ],
      "execution_count": null,
      "outputs": []
    },
    {
      "cell_type": "code",
      "metadata": {
        "colab": {
          "base_uri": "https://localhost:8080/"
        },
        "id": "uUicjPkc39r_",
        "outputId": "21a2a8fa-4c9a-45f2-95a7-181df34479ea"
      },
      "source": [
        "print(variable1)"
      ],
      "execution_count": null,
      "outputs": [
        {
          "output_type": "stream",
          "text": [
            "1\n"
          ],
          "name": "stdout"
        }
      ]
    },
    {
      "cell_type": "code",
      "metadata": {
        "id": "HASoMDBa4OEB"
      },
      "source": [
        "variable_a = 12 #ตัวเลขไม่ต้องใส่ quote\n",
        "variable_b = 'abcde' # ' เรียกว่า quote #ข้อมูลที่เป็นตัวหนังสือให้ใส่ quote\n",
        "variable_c = variable_a \n",
        "variable_d = -41.2\n",
        "variable_4 = \"KKU\" # \" เรียกว่า double quote ใช้อันนี้ก็ได้"
      ],
      "execution_count": null,
      "outputs": []
    },
    {
      "cell_type": "code",
      "metadata": {
        "colab": {
          "base_uri": "https://localhost:8080/"
        },
        "id": "WW0uZ78Y4oi3",
        "outputId": "7550b896-164b-44b4-a8a1-855b0bcbb4f3"
      },
      "source": [
        "variable_x = variable_c + variable_d\n",
        "print(variable_x)"
      ],
      "execution_count": null,
      "outputs": [
        {
          "output_type": "stream",
          "text": [
            "-29.200000000000003\n"
          ],
          "name": "stdout"
        }
      ]
    },
    {
      "cell_type": "code",
      "metadata": {
        "colab": {
          "base_uri": "https://localhost:8080/",
          "height": 163
        },
        "id": "Cl0EKZAL6D54",
        "outputId": "806829d2-5854-49e3-d9b7-e141f45cb1d1"
      },
      "source": [
        "variable_a + variable_b #ตัวเลขกับตัวอักษรบวกกันไม่ได้"
      ],
      "execution_count": null,
      "outputs": [
        {
          "output_type": "error",
          "ename": "TypeError",
          "evalue": "ignored",
          "traceback": [
            "\u001b[0;31m---------------------------------------------------------------------------\u001b[0m",
            "\u001b[0;31mTypeError\u001b[0m                                 Traceback (most recent call last)",
            "\u001b[0;32m<ipython-input-21-b869ad99e936>\u001b[0m in \u001b[0;36m<module>\u001b[0;34m()\u001b[0m\n\u001b[0;32m----> 1\u001b[0;31m \u001b[0mvariable_a\u001b[0m \u001b[0;34m+\u001b[0m \u001b[0mvariable_b\u001b[0m \u001b[0;31m#ตัวเลขกับตัวอักษรบวกกันไม่ได้\u001b[0m\u001b[0;34m\u001b[0m\u001b[0;34m\u001b[0m\u001b[0m\n\u001b[0m",
            "\u001b[0;31mTypeError\u001b[0m: unsupported operand type(s) for +: 'int' and 'str'"
          ]
        }
      ]
    },
    {
      "cell_type": "code",
      "metadata": {
        "colab": {
          "base_uri": "https://localhost:8080/"
        },
        "id": "043QysR26MEj",
        "outputId": "b5dbab39-676a-4ae1-da68-cadfc5d6594b"
      },
      "source": [
        "print(variable_b + variable_4) #ตัวแปรชนิดเดียวกันบวกกันได้"
      ],
      "execution_count": null,
      "outputs": [
        {
          "output_type": "stream",
          "text": [
            "abcdeKKU\n"
          ],
          "name": "stdout"
        }
      ]
    },
    {
      "cell_type": "markdown",
      "metadata": {
        "id": "WfHfJrYX7Si5"
      },
      "source": [
        "# Casting int() float() str()"
      ]
    },
    {
      "cell_type": "code",
      "metadata": {
        "colab": {
          "base_uri": "https://localhost:8080/"
        },
        "id": "at8_Xx-S6pBL",
        "outputId": "ca2cc378-c17a-4ff8-8b8d-597db392c29d"
      },
      "source": [
        "print(variable_x)\n",
        "print(int(variable_x))"
      ],
      "execution_count": null,
      "outputs": [
        {
          "output_type": "stream",
          "text": [
            "-29.200000000000003\n",
            "-29\n"
          ],
          "name": "stdout"
        }
      ]
    },
    {
      "cell_type": "code",
      "metadata": {
        "colab": {
          "base_uri": "https://localhost:8080/"
        },
        "id": "-aby7DHV7mqF",
        "outputId": "95bfe3d7-aa31-4dd9-9e22-1fae7f4defe8"
      },
      "source": [
        "print(str(variable_x))"
      ],
      "execution_count": null,
      "outputs": [
        {
          "output_type": "stream",
          "text": [
            "-29.200000000000003\n"
          ],
          "name": "stdout"
        }
      ]
    },
    {
      "cell_type": "code",
      "metadata": {
        "colab": {
          "base_uri": "https://localhost:8080/"
        },
        "id": "uNrxjM5x7skS",
        "outputId": "1a1476bb-488c-4a02-a131-c05cc2faa4bf"
      },
      "source": [
        "v_x = str(variable_x)\n",
        "print(v_x)"
      ],
      "execution_count": null,
      "outputs": [
        {
          "output_type": "stream",
          "text": [
            "-29.200000000000003\n"
          ],
          "name": "stdout"
        }
      ]
    },
    {
      "cell_type": "code",
      "metadata": {
        "colab": {
          "base_uri": "https://localhost:8080/",
          "height": 163
        },
        "id": "xkGR66Nz8B1L",
        "outputId": "8f521d0a-7d2c-4bed-c7d7-44d289e6415e"
      },
      "source": [
        "v_x + variable_a #ไม่สามารถบวกได้"
      ],
      "execution_count": null,
      "outputs": [
        {
          "output_type": "error",
          "ename": "TypeError",
          "evalue": "ignored",
          "traceback": [
            "\u001b[0;31m---------------------------------------------------------------------------\u001b[0m",
            "\u001b[0;31mTypeError\u001b[0m                                 Traceback (most recent call last)",
            "\u001b[0;32m<ipython-input-26-62d154fcca30>\u001b[0m in \u001b[0;36m<module>\u001b[0;34m()\u001b[0m\n\u001b[0;32m----> 1\u001b[0;31m \u001b[0mv_x\u001b[0m \u001b[0;34m+\u001b[0m \u001b[0mvariable_a\u001b[0m \u001b[0;31m#ไม่สามารถบวกได้\u001b[0m\u001b[0;34m\u001b[0m\u001b[0;34m\u001b[0m\u001b[0m\n\u001b[0m",
            "\u001b[0;31mTypeError\u001b[0m: can only concatenate str (not \"int\") to str"
          ]
        }
      ]
    },
    {
      "cell_type": "code",
      "metadata": {
        "colab": {
          "base_uri": "https://localhost:8080/",
          "height": 163
        },
        "id": "W0fS0Vd38Ki6",
        "outputId": "480612ac-4f63-4761-d3f9-80ab1fe379b6"
      },
      "source": [
        "variable_a + v_x "
      ],
      "execution_count": null,
      "outputs": [
        {
          "output_type": "error",
          "ename": "TypeError",
          "evalue": "ignored",
          "traceback": [
            "\u001b[0;31m---------------------------------------------------------------------------\u001b[0m",
            "\u001b[0;31mTypeError\u001b[0m                                 Traceback (most recent call last)",
            "\u001b[0;32m<ipython-input-27-39b1277a28d0>\u001b[0m in \u001b[0;36m<module>\u001b[0;34m()\u001b[0m\n\u001b[0;32m----> 1\u001b[0;31m \u001b[0mvariable_a\u001b[0m \u001b[0;34m+\u001b[0m \u001b[0mv_x\u001b[0m\u001b[0;34m\u001b[0m\u001b[0;34m\u001b[0m\u001b[0m\n\u001b[0m",
            "\u001b[0;31mTypeError\u001b[0m: unsupported operand type(s) for +: 'int' and 'str'"
          ]
        }
      ]
    },
    {
      "cell_type": "code",
      "metadata": {
        "id": "_ae08tSW8VMw"
      },
      "source": [
        "v_x #เป็น str เนื่องจากการแสดงผลมี qoute"
      ],
      "execution_count": null,
      "outputs": []
    },
    {
      "cell_type": "code",
      "metadata": {
        "colab": {
          "base_uri": "https://localhost:8080/"
        },
        "id": "4EWNsM4q8xSA",
        "outputId": "437cf305-4333-4fb4-91e8-1a44335c152d"
      },
      "source": [
        "float(v_x) # เปลี่ยนค่าเป็นตัวเลขโดยใช้คำสั่ง float "
      ],
      "execution_count": null,
      "outputs": [
        {
          "output_type": "execute_result",
          "data": {
            "text/plain": [
              "-29.200000000000003"
            ]
          },
          "metadata": {
            "tags": []
          },
          "execution_count": 28
        }
      ]
    },
    {
      "cell_type": "markdown",
      "metadata": {
        "id": "iely38U29ARt"
      },
      "source": [
        "# Data Structure\n",
        "\n",
        "### list()"
      ]
    },
    {
      "cell_type": "code",
      "metadata": {
        "id": "DJGAEgb-802o"
      },
      "source": [
        "list_a = [1,2,0.2,'abs'] # [] square brackets\n",
        "list_b = [2,'xyz',list_a,[1,2,0.0]]"
      ],
      "execution_count": null,
      "outputs": []
    },
    {
      "cell_type": "code",
      "metadata": {
        "colab": {
          "base_uri": "https://localhost:8080/"
        },
        "id": "4PDdzzm89-2k",
        "outputId": "b9d68bb0-9789-4e52-a31c-fe755e5718d2"
      },
      "source": [
        "list_a"
      ],
      "execution_count": null,
      "outputs": [
        {
          "output_type": "execute_result",
          "data": {
            "text/plain": [
              "[1, 2, 0.2, 'abs']"
            ]
          },
          "metadata": {
            "tags": []
          },
          "execution_count": 30
        }
      ]
    },
    {
      "cell_type": "code",
      "metadata": {
        "colab": {
          "base_uri": "https://localhost:8080/"
        },
        "id": "lGyaXR0h-BAz",
        "outputId": "a8212c79-3abb-4c9b-9261-fef01e8d2437"
      },
      "source": [
        "list_b"
      ],
      "execution_count": null,
      "outputs": [
        {
          "output_type": "execute_result",
          "data": {
            "text/plain": [
              "[2, 'xyz', [1, 2, 0.2, 'abs'], [1, 2, 0.0]]"
            ]
          },
          "metadata": {
            "tags": []
          },
          "execution_count": 31
        }
      ]
    },
    {
      "cell_type": "code",
      "metadata": {
        "colab": {
          "base_uri": "https://localhost:8080/"
        },
        "id": "IJaNd-5i-Cqy",
        "outputId": "4166520b-a6ab-47f4-8416-d41b3ab898a2"
      },
      "source": [
        "len(list_b) # นับจำนวนว่าในlistมีกี่ตัว"
      ],
      "execution_count": null,
      "outputs": [
        {
          "output_type": "execute_result",
          "data": {
            "text/plain": [
              "4"
            ]
          },
          "metadata": {
            "tags": []
          },
          "execution_count": 32
        }
      ]
    },
    {
      "cell_type": "code",
      "metadata": {
        "colab": {
          "base_uri": "https://localhost:8080/"
        },
        "id": "LFHY0_N5-XGE",
        "outputId": "8efeb085-0452-4652-c13f-fac2055de741"
      },
      "source": [
        "list_b[3]# ชี้ตัวที่3ของlist"
      ],
      "execution_count": null,
      "outputs": [
        {
          "output_type": "execute_result",
          "data": {
            "text/plain": [
              "[1, 2, 0.0]"
            ]
          },
          "metadata": {
            "tags": []
          },
          "execution_count": 33
        }
      ]
    },
    {
      "cell_type": "code",
      "metadata": {
        "colab": {
          "base_uri": "https://localhost:8080/"
        },
        "id": "NBdMvaE--lIz",
        "outputId": "ae2c517a-1a93-4f98-e3de-ec6ce5b91cc0"
      },
      "source": [
        "list_b[3][1] #ชี้ตัวที่3ของlist_bและชี้ตัวที่1ในตัวที่3อีกที"
      ],
      "execution_count": null,
      "outputs": [
        {
          "output_type": "execute_result",
          "data": {
            "text/plain": [
              "2"
            ]
          },
          "metadata": {
            "tags": []
          },
          "execution_count": 34
        }
      ]
    },
    {
      "cell_type": "markdown",
      "metadata": {
        "id": "QDyjAKK__ASp"
      },
      "source": [
        "## string คือ list ของตัวหนังสือ"
      ]
    },
    {
      "cell_type": "code",
      "metadata": {
        "id": "WqOqq2_3-wTl"
      },
      "source": [
        "a = 'Stat KKU'"
      ],
      "execution_count": null,
      "outputs": []
    },
    {
      "cell_type": "code",
      "metadata": {
        "colab": {
          "base_uri": "https://localhost:8080/",
          "height": 35
        },
        "id": "osnQIxv7_Nob",
        "outputId": "d4ba016e-d1de-46a5-b6aa-c8341b870b99"
      },
      "source": [
        "a[4] #ได้วรรค"
      ],
      "execution_count": null,
      "outputs": [
        {
          "output_type": "execute_result",
          "data": {
            "application/vnd.google.colaboratory.intrinsic+json": {
              "type": "string"
            },
            "text/plain": [
              "' '"
            ]
          },
          "metadata": {
            "tags": []
          },
          "execution_count": 36
        }
      ]
    },
    {
      "cell_type": "markdown",
      "metadata": {
        "id": "WkJETtuh_iNm"
      },
      "source": [
        "## วิธีสร้าง list ว่าง"
      ]
    },
    {
      "cell_type": "code",
      "metadata": {
        "id": "c2mD9TRT_Phz"
      },
      "source": [
        "list_c = list() # แบบที่ 1\n",
        "list_d = [] #แบบที่ 2"
      ],
      "execution_count": null,
      "outputs": []
    },
    {
      "cell_type": "code",
      "metadata": {
        "colab": {
          "base_uri": "https://localhost:8080/"
        },
        "id": "ASHHEiLT__oH",
        "outputId": "312b4a3e-6033-4794-aa33-3c3d0f6ff01a"
      },
      "source": [
        "list_c"
      ],
      "execution_count": null,
      "outputs": [
        {
          "output_type": "execute_result",
          "data": {
            "text/plain": [
              "[]"
            ]
          },
          "metadata": {
            "tags": []
          },
          "execution_count": 38
        }
      ]
    },
    {
      "cell_type": "code",
      "metadata": {
        "colab": {
          "base_uri": "https://localhost:8080/"
        },
        "id": "3bxDLL2AABkj",
        "outputId": "3173b2b3-a8e7-498d-836a-e7b39460835e"
      },
      "source": [
        "list_d"
      ],
      "execution_count": null,
      "outputs": [
        {
          "output_type": "execute_result",
          "data": {
            "text/plain": [
              "[]"
            ]
          },
          "metadata": {
            "tags": []
          },
          "execution_count": 39
        }
      ]
    },
    {
      "cell_type": "markdown",
      "metadata": {
        "id": "VGHC5leTAdO8"
      },
      "source": [
        "## เติมค่าเข้าใน list (.append())"
      ]
    },
    {
      "cell_type": "code",
      "metadata": {
        "id": "RwhesvNgADss"
      },
      "source": [
        "list_d.append('a')"
      ],
      "execution_count": null,
      "outputs": []
    },
    {
      "cell_type": "code",
      "metadata": {
        "colab": {
          "base_uri": "https://localhost:8080/"
        },
        "id": "cWIe7UzxAuoJ",
        "outputId": "a7e976aa-cae7-45d3-8605-e5a465b8df61"
      },
      "source": [
        "list_d"
      ],
      "execution_count": null,
      "outputs": [
        {
          "output_type": "execute_result",
          "data": {
            "text/plain": [
              "['a']"
            ]
          },
          "metadata": {
            "tags": []
          },
          "execution_count": 41
        }
      ]
    },
    {
      "cell_type": "code",
      "metadata": {
        "id": "e2PWLizrAwgj"
      },
      "source": [
        "list_d.append(56)"
      ],
      "execution_count": null,
      "outputs": []
    },
    {
      "cell_type": "code",
      "metadata": {
        "colab": {
          "base_uri": "https://localhost:8080/",
          "height": 163
        },
        "id": "Sn13qR37A1mG",
        "outputId": "cb94766b-5017-4886-eaaf-86f7a670bcfe"
      },
      "source": [
        "ilist_d"
      ],
      "execution_count": null,
      "outputs": [
        {
          "output_type": "error",
          "ename": "NameError",
          "evalue": "ignored",
          "traceback": [
            "\u001b[0;31m---------------------------------------------------------------------------\u001b[0m",
            "\u001b[0;31mNameError\u001b[0m                                 Traceback (most recent call last)",
            "\u001b[0;32m<ipython-input-55-6f682959af00>\u001b[0m in \u001b[0;36m<module>\u001b[0;34m()\u001b[0m\n\u001b[0;32m----> 1\u001b[0;31m \u001b[0milist_d\u001b[0m\u001b[0;34m\u001b[0m\u001b[0;34m\u001b[0m\u001b[0m\n\u001b[0m",
            "\u001b[0;31mNameError\u001b[0m: name 'ilist_d' is not defined"
          ]
        }
      ]
    },
    {
      "cell_type": "markdown",
      "metadata": {
        "id": "2jdy3I1SBGfk"
      },
      "source": [
        "### การชี้ค่าใน list (indexing)\n",
        "\n",
        "1.   ใช้ลำดับในการชี้\n",
        "2.   ลำดับเริ่มจาก0\n",
        "3. สามารถชี้จากข้างหลังได้โดยใช้ negative index\n",
        "\n"
      ]
    },
    {
      "cell_type": "code",
      "metadata": {
        "colab": {
          "base_uri": "https://localhost:8080/"
        },
        "id": "B-BkBLPuA3O3",
        "outputId": "70add477-f897-4019-eae0-bc6d0990c076"
      },
      "source": [
        "list_b"
      ],
      "execution_count": null,
      "outputs": [
        {
          "output_type": "execute_result",
          "data": {
            "text/plain": [
              "[2, 'xyz', [1, 2, 0.2, 'abs'], [1, 2, 0.0]]"
            ]
          },
          "metadata": {
            "tags": []
          },
          "execution_count": 56
        }
      ]
    },
    {
      "cell_type": "code",
      "metadata": {
        "colab": {
          "base_uri": "https://localhost:8080/"
        },
        "id": "FpTy02m-BndL",
        "outputId": "4e9d626d-a8cd-4212-bff5-92fa7f7768dd"
      },
      "source": [
        "list_b[-1]"
      ],
      "execution_count": null,
      "outputs": [
        {
          "output_type": "execute_result",
          "data": {
            "text/plain": [
              "[1, 2, 0.0]"
            ]
          },
          "metadata": {
            "tags": []
          },
          "execution_count": 57
        }
      ]
    },
    {
      "cell_type": "markdown",
      "metadata": {
        "id": "uPfeKbSOCIAl"
      },
      "source": [
        "## list slicing"
      ]
    },
    {
      "cell_type": "code",
      "metadata": {
        "id": "0v0hrg-iBqMR"
      },
      "source": [
        "list_ex = [1,2,3,5,6,8,-1,20,50,0]"
      ],
      "execution_count": null,
      "outputs": []
    },
    {
      "cell_type": "markdown",
      "metadata": {
        "id": "R1H8cBKSDQDg"
      },
      "source": [
        "เราจะตัดlist โดยเอาตั้งแต่ [ตัวหน้า : ตัวก่อนตัวหลัง]\n",
        "\n",
        "ถ้าเป็นสัญลักษณ์คณิตศาสตร์ [ตัวหน้า:ตัวหลัง]->[ตัวหน้า,ตัวหลัง)"
      ]
    },
    {
      "cell_type": "code",
      "metadata": {
        "colab": {
          "base_uri": "https://localhost:8080/"
        },
        "id": "CoB0H9MOCdZ-",
        "outputId": "18a6b365-83d4-4f5f-d1b1-9bdb1afdb9ba"
      },
      "source": [
        "list_ex[1:6] #เราจะตัดlist โดยเอาตั้งแต่ [ตัวหน้า : ตัวก่อนตัวหลัง]"
      ],
      "execution_count": null,
      "outputs": [
        {
          "output_type": "execute_result",
          "data": {
            "text/plain": [
              "[2, 3, 5, 6, 8]"
            ]
          },
          "metadata": {
            "tags": []
          },
          "execution_count": 59
        }
      ]
    },
    {
      "cell_type": "code",
      "metadata": {
        "colab": {
          "base_uri": "https://localhost:8080/"
        },
        "id": "L-cp8CHyCj2Q",
        "outputId": "2ee25ed7-a86a-462c-89d3-b557af1a89d4"
      },
      "source": [
        "list_ex[4:]"
      ],
      "execution_count": null,
      "outputs": [
        {
          "output_type": "execute_result",
          "data": {
            "text/plain": [
              "[6, 8, -1, 20, 50, 0]"
            ]
          },
          "metadata": {
            "tags": []
          },
          "execution_count": 60
        }
      ]
    },
    {
      "cell_type": "code",
      "metadata": {
        "colab": {
          "base_uri": "https://localhost:8080/"
        },
        "id": "Vvv1itrFDsWj",
        "outputId": "6384a315-e5dd-49a0-932e-6216d4f524a6"
      },
      "source": [
        "list_ex[:6]"
      ],
      "execution_count": null,
      "outputs": [
        {
          "output_type": "execute_result",
          "data": {
            "text/plain": [
              "[1, 2, 3, 5, 6, 8]"
            ]
          },
          "metadata": {
            "tags": []
          },
          "execution_count": 61
        }
      ]
    },
    {
      "cell_type": "markdown",
      "metadata": {
        "id": "KuyRTls7EHys"
      },
      "source": [
        "## [จุดเริ่มต้น:จุดสุดท้าย:step]"
      ]
    },
    {
      "cell_type": "code",
      "metadata": {
        "colab": {
          "base_uri": "https://localhost:8080/"
        },
        "id": "kKBTfoSwEVn4",
        "outputId": "314473b8-f2da-4d49-c758-de67c3f798e2"
      },
      "source": [
        "list_ex"
      ],
      "execution_count": null,
      "outputs": [
        {
          "output_type": "execute_result",
          "data": {
            "text/plain": [
              "[1, 2, 3, 5, 6, 8, -1, 20, 50, 0]"
            ]
          },
          "metadata": {
            "tags": []
          },
          "execution_count": 62
        }
      ]
    },
    {
      "cell_type": "code",
      "metadata": {
        "colab": {
          "base_uri": "https://localhost:8080/"
        },
        "id": "85Hrr977Dvo_",
        "outputId": "fa704ae7-3aa4-4e37-be7b-cbf75fab7922"
      },
      "source": [
        "list_ex[::2]#เลือกตัวแรกเว้น1เอาตัวที่2 (กระโดด)"
      ],
      "execution_count": null,
      "outputs": [
        {
          "output_type": "execute_result",
          "data": {
            "text/plain": [
              "[1, 3, 6, -1, 50]"
            ]
          },
          "metadata": {
            "tags": []
          },
          "execution_count": 63
        }
      ]
    },
    {
      "cell_type": "code",
      "metadata": {
        "colab": {
          "base_uri": "https://localhost:8080/"
        },
        "id": "VA9sMmoOEE4B",
        "outputId": "05e854c7-ef63-4e65-b332-a25b4447f8fe"
      },
      "source": [
        "list_ex[::-1]#ใช้ step -1 มันจะกลับ list ให้ "
      ],
      "execution_count": null,
      "outputs": [
        {
          "output_type": "execute_result",
          "data": {
            "text/plain": [
              "[0, 50, 20, -1, 8, 6, 5, 3, 2, 1]"
            ]
          },
          "metadata": {
            "tags": []
          },
          "execution_count": 64
        }
      ]
    },
    {
      "cell_type": "code",
      "metadata": {
        "colab": {
          "base_uri": "https://localhost:8080/",
          "height": 35
        },
        "id": "Z3IJQU1EEq4I",
        "outputId": "e081f006-30ed-4f63-a4cd-bf783bbc9643"
      },
      "source": [
        "a"
      ],
      "execution_count": null,
      "outputs": [
        {
          "output_type": "execute_result",
          "data": {
            "application/vnd.google.colaboratory.intrinsic+json": {
              "type": "string"
            },
            "text/plain": [
              "'Stat KKU'"
            ]
          },
          "metadata": {
            "tags": []
          },
          "execution_count": 65
        }
      ]
    },
    {
      "cell_type": "markdown",
      "metadata": {
        "id": "CpPzVrRZQtd6"
      },
      "source": [
        "ตัดให้เหลือแค่คำว่า'KKU'"
      ]
    },
    {
      "cell_type": "code",
      "metadata": {
        "colab": {
          "base_uri": "https://localhost:8080/",
          "height": 35
        },
        "id": "UZ6VE46TE7Lp",
        "outputId": "138476bf-a601-4598-ed19-d65b9b2666fc"
      },
      "source": [
        "a[5:]"
      ],
      "execution_count": null,
      "outputs": [
        {
          "output_type": "execute_result",
          "data": {
            "application/vnd.google.colaboratory.intrinsic+json": {
              "type": "string"
            },
            "text/plain": [
              "'KKU'"
            ]
          },
          "metadata": {
            "tags": []
          },
          "execution_count": 66
        }
      ]
    },
    {
      "cell_type": "code",
      "metadata": {
        "colab": {
          "base_uri": "https://localhost:8080/",
          "height": 35
        },
        "id": "-YwkPSwpFm9L",
        "outputId": "e665cf0f-e35b-4c21-de67-00ab3c191510"
      },
      "source": [
        "a[-3:]"
      ],
      "execution_count": null,
      "outputs": [
        {
          "output_type": "execute_result",
          "data": {
            "application/vnd.google.colaboratory.intrinsic+json": {
              "type": "string"
            },
            "text/plain": [
              "'KKU'"
            ]
          },
          "metadata": {
            "tags": []
          },
          "execution_count": 67
        }
      ]
    },
    {
      "cell_type": "code",
      "metadata": {
        "colab": {
          "base_uri": "https://localhost:8080/",
          "height": 35
        },
        "id": "AVleBzj1FyVQ",
        "outputId": "40dfd904-9830-4266-9182-31db69904b10"
      },
      "source": [
        "a[4::]"
      ],
      "execution_count": null,
      "outputs": [
        {
          "output_type": "execute_result",
          "data": {
            "application/vnd.google.colaboratory.intrinsic+json": {
              "type": "string"
            },
            "text/plain": [
              "' KKU'"
            ]
          },
          "metadata": {
            "tags": []
          },
          "execution_count": 68
        }
      ]
    },
    {
      "cell_type": "code",
      "metadata": {
        "colab": {
          "base_uri": "https://localhost:8080/",
          "height": 35
        },
        "id": "gl8v99DrF2rd",
        "outputId": "92b93cae-d50b-450a-ea70-87f08f3a1c1c"
      },
      "source": [
        "a[5:8]"
      ],
      "execution_count": null,
      "outputs": [
        {
          "output_type": "execute_result",
          "data": {
            "application/vnd.google.colaboratory.intrinsic+json": {
              "type": "string"
            },
            "text/plain": [
              "'KKU'"
            ]
          },
          "metadata": {
            "tags": []
          },
          "execution_count": 69
        }
      ]
    },
    {
      "cell_type": "code",
      "metadata": {
        "colab": {
          "base_uri": "https://localhost:8080/",
          "height": 35
        },
        "id": "MkegqeBpGEbD",
        "outputId": "8249a314-452d-426e-80c1-c6dbf9b5e77e"
      },
      "source": [
        "a[5::]"
      ],
      "execution_count": null,
      "outputs": [
        {
          "output_type": "execute_result",
          "data": {
            "application/vnd.google.colaboratory.intrinsic+json": {
              "type": "string"
            },
            "text/plain": [
              "'KKU'"
            ]
          },
          "metadata": {
            "tags": []
          },
          "execution_count": 70
        }
      ]
    },
    {
      "cell_type": "code",
      "metadata": {
        "colab": {
          "base_uri": "https://localhost:8080/",
          "height": 35
        },
        "id": "j--jiS_nGJUM",
        "outputId": "77fcb764-62c2-4463-f81e-e5f34f1bd800"
      },
      "source": [
        "a[-3::]"
      ],
      "execution_count": null,
      "outputs": [
        {
          "output_type": "execute_result",
          "data": {
            "application/vnd.google.colaboratory.intrinsic+json": {
              "type": "string"
            },
            "text/plain": [
              "'KKU'"
            ]
          },
          "metadata": {
            "tags": []
          },
          "execution_count": 71
        }
      ]
    },
    {
      "cell_type": "markdown",
      "metadata": {
        "id": "J9Mv_IWmGti7"
      },
      "source": [
        "### list+list"
      ]
    },
    {
      "cell_type": "code",
      "metadata": {
        "colab": {
          "base_uri": "https://localhost:8080/"
        },
        "id": "8dc2IylSGaE4",
        "outputId": "8a0496de-50b3-4b78-c89d-863139189a83"
      },
      "source": [
        "print(list_a)\n",
        "print(list_b)"
      ],
      "execution_count": null,
      "outputs": [
        {
          "output_type": "stream",
          "text": [
            "[1, 2, 0.2, 'abs']\n",
            "[2, 'xyz', [1, 2, 0.2, 'abs'], [1, 2, 0.0]]\n"
          ],
          "name": "stdout"
        }
      ]
    },
    {
      "cell_type": "code",
      "metadata": {
        "colab": {
          "base_uri": "https://localhost:8080/"
        },
        "id": "YrnPjznwHEtV",
        "outputId": "ead1e5e6-bdc8-4e43-9804-1dddc04dc4b5"
      },
      "source": [
        "list_a + list_b #list2ตัวมาต่อกัน "
      ],
      "execution_count": null,
      "outputs": [
        {
          "output_type": "execute_result",
          "data": {
            "text/plain": [
              "[1, 2, 0.2, 'abs', 2, 'xyz', [1, 2, 0.2, 'abs'], [1, 2, 0.0]]"
            ]
          },
          "metadata": {
            "tags": []
          },
          "execution_count": 73
        }
      ]
    },
    {
      "cell_type": "code",
      "metadata": {
        "colab": {
          "base_uri": "https://localhost:8080/"
        },
        "id": "eO3NIEEGHPJS",
        "outputId": "61f20b2b-2a3d-4805-a5ab-799a6b30d218"
      },
      "source": [
        "list_b + list_a  #ถ้าสลับตำแหน่งก็จะเรียงสลับก่อน"
      ],
      "execution_count": null,
      "outputs": [
        {
          "output_type": "execute_result",
          "data": {
            "text/plain": [
              "[2, 'xyz', [1, 2, 0.2, 'abs'], [1, 2, 0.0], 1, 2, 0.2, 'abs']"
            ]
          },
          "metadata": {
            "tags": []
          },
          "execution_count": 74
        }
      ]
    },
    {
      "cell_type": "markdown",
      "metadata": {
        "id": "5zXH3sbRLUOy"
      },
      "source": [
        "### format string"
      ]
    },
    {
      "cell_type": "markdown",
      "metadata": {
        "id": "JrksN0OiOCUf"
      },
      "source": [
        "``` python\n",
        "f 'string{ตัวแปร}'\n",
        "```"
      ]
    },
    {
      "cell_type": "markdown",
      "metadata": {
        "id": "319sWNmyMQAt"
      },
      "source": [
        "{} เรียกว่า "
      ]
    },
    {
      "cell_type": "code",
      "metadata": {
        "colab": {
          "base_uri": "https://localhost:8080/",
          "height": 35
        },
        "id": "Bp2YziU-Lb8Y",
        "outputId": "fb0a9023-ef14-4dc4-97fd-24deca9ec555"
      },
      "source": [
        "f'ตัวแปร list_a มีค่าคือ{list_a}'"
      ],
      "execution_count": null,
      "outputs": [
        {
          "output_type": "execute_result",
          "data": {
            "application/vnd.google.colaboratory.intrinsic+json": {
              "type": "string"
            },
            "text/plain": [
              "\"ตัวแปร list_a มีค่าคือ[1, 2, 0.2, 'abs']\""
            ]
          },
          "metadata": {
            "tags": []
          },
          "execution_count": 75
        }
      ]
    },
    {
      "cell_type": "markdown",
      "metadata": {
        "id": "sdOclbbDHm90"
      },
      "source": [
        "# Loop"
      ]
    },
    {
      "cell_type": "markdown",
      "metadata": {
        "id": "bETDaW2_KeWX"
      },
      "source": [
        "``` python\n",
        "for ตัวแปรที่จะรับค่าจากลิสต์ in ลิตส์ที่จะนำมาวนลูป:\n",
        "     do something\n",
        "```"
      ]
    },
    {
      "cell_type": "code",
      "metadata": {
        "colab": {
          "base_uri": "https://localhost:8080/"
        },
        "id": "lrfJBiNzJf_y",
        "outputId": "e133068f-1e87-49e9-aa63-b547ca45c626"
      },
      "source": [
        "for i in [1,2,3,4,5]:\n",
        "     print(i)"
      ],
      "execution_count": null,
      "outputs": [
        {
          "output_type": "stream",
          "text": [
            "1\n",
            "2\n",
            "3\n",
            "4\n",
            "5\n"
          ],
          "name": "stdout"
        }
      ]
    },
    {
      "cell_type": "code",
      "metadata": {
        "colab": {
          "base_uri": "https://localhost:8080/"
        },
        "id": "6UkK93X5KNwN",
        "outputId": "42fc41a9-d323-487b-cb45-0ef4ca96d840"
      },
      "source": [
        "for i in [1,2,3,4,5]:\n",
        "     print(i+1)"
      ],
      "execution_count": null,
      "outputs": [
        {
          "output_type": "stream",
          "text": [
            "2\n",
            "3\n",
            "4\n",
            "5\n",
            "6\n"
          ],
          "name": "stdout"
        }
      ]
    },
    {
      "cell_type": "code",
      "metadata": {
        "colab": {
          "base_uri": "https://localhost:8080/"
        },
        "id": "qsxMRS9vMdr9",
        "outputId": "84addd3f-bf2a-4269-9226-dfa526669ce3"
      },
      "source": [
        "for x in [1,2,3,4,5]:\n",
        "     print(f'ค่าตัวแปร x คือ {x} และ x+2={x+2}')"
      ],
      "execution_count": null,
      "outputs": [
        {
          "output_type": "stream",
          "text": [
            "ค่าตัวแปร x คือ 1 และ x+2=3\n",
            "ค่าตัวแปร x คือ 2 และ x+2=4\n",
            "ค่าตัวแปร x คือ 3 และ x+2=5\n",
            "ค่าตัวแปร x คือ 4 และ x+2=6\n",
            "ค่าตัวแปร x คือ 5 และ x+2=7\n"
          ],
          "name": "stdout"
        }
      ]
    },
    {
      "cell_type": "code",
      "metadata": {
        "colab": {
          "base_uri": "https://localhost:8080/"
        },
        "id": "ptX8HM6YM2Gd",
        "outputId": "95f787a7-bed6-4998-a7ac-9b8137759613"
      },
      "source": [
        "list5=[1,2,3,4,5]\n",
        "for x in list5:\n",
        "     print(f'ค่าตัวแปร x คือ {x} และ x+2={x+2}')"
      ],
      "execution_count": null,
      "outputs": [
        {
          "output_type": "stream",
          "text": [
            "ค่าตัวแปร x คือ 1 และ x+2=3\n",
            "ค่าตัวแปร x คือ 2 และ x+2=4\n",
            "ค่าตัวแปร x คือ 3 และ x+2=5\n",
            "ค่าตัวแปร x คือ 4 และ x+2=6\n",
            "ค่าตัวแปร x คือ 5 และ x+2=7\n"
          ],
          "name": "stdout"
        }
      ]
    },
    {
      "cell_type": "code",
      "metadata": {
        "colab": {
          "base_uri": "https://localhost:8080/"
        },
        "id": "NrqPyY-ZNFp3",
        "outputId": "f12bcd05-1339-4200-9b06-5ca494f3fab8"
      },
      "source": [
        "list(range(10))"
      ],
      "execution_count": null,
      "outputs": [
        {
          "output_type": "execute_result",
          "data": {
            "text/plain": [
              "[0, 1, 2, 3, 4, 5, 6, 7, 8, 9]"
            ]
          },
          "metadata": {
            "tags": []
          },
          "execution_count": 80
        }
      ]
    },
    {
      "cell_type": "code",
      "metadata": {
        "colab": {
          "base_uri": "https://localhost:8080/"
        },
        "id": "OYYYv9jkNWCO",
        "outputId": "ce1b2eff-ea7a-4b20-e173-22acec05999c"
      },
      "source": [
        "for i in range(2,7):\n",
        "     print(i)"
      ],
      "execution_count": null,
      "outputs": [
        {
          "output_type": "stream",
          "text": [
            "2\n",
            "3\n",
            "4\n",
            "5\n",
            "6\n"
          ],
          "name": "stdout"
        }
      ]
    },
    {
      "cell_type": "code",
      "metadata": {
        "colab": {
          "base_uri": "https://localhost:8080/"
        },
        "id": "hw-6RxPUOTqo",
        "outputId": "ee6f00eb-a619-43d2-81d8-fac553303125"
      },
      "source": [
        "for i in range(2,7,2):\n",
        "     print(i)"
      ],
      "execution_count": null,
      "outputs": [
        {
          "output_type": "stream",
          "text": [
            "2\n",
            "4\n",
            "6\n"
          ],
          "name": "stdout"
        }
      ]
    },
    {
      "cell_type": "code",
      "metadata": {
        "colab": {
          "base_uri": "https://localhost:8080/"
        },
        "id": "_nWzYbkdOZkJ",
        "outputId": "5ce2dc9d-fb6c-4838-a311-4dfe85359e38"
      },
      "source": [
        "for i in range(5):\n",
        "     print('hahaha')\n",
        "     x = i+3\n",
        "     print(f' i={i} x={x} ')"
      ],
      "execution_count": null,
      "outputs": [
        {
          "output_type": "stream",
          "text": [
            "hahaha\n",
            " i=0 x=3 \n",
            "hahaha\n",
            " i=1 x=4 \n",
            "hahaha\n",
            " i=2 x=5 \n",
            "hahaha\n",
            " i=3 x=6 \n",
            "hahaha\n",
            " i=4 x=7 \n"
          ],
          "name": "stdout"
        }
      ]
    },
    {
      "cell_type": "markdown",
      "metadata": {
        "id": "a1O5Y-LYPDVO"
      },
      "source": [
        "## Nested loop\n",
        "\n",
        "loopซ้อนloop"
      ]
    },
    {
      "cell_type": "code",
      "metadata": {
        "colab": {
          "base_uri": "https://localhost:8080/"
        },
        "id": "SuXWj3aCPMVn",
        "outputId": "74dcae4b-caab-4890-d100-0437885afe4c"
      },
      "source": [
        "for i in range(3):\n",
        "     print(f'now i = {i}')\n",
        "     print('start j loop')\n",
        "     for j in range(4):\n",
        "          print(f' i={i} j={j} i+j={i+j}')"
      ],
      "execution_count": null,
      "outputs": [
        {
          "output_type": "stream",
          "text": [
            "now i = 0\n",
            "start j loop\n",
            " i=0 j=0 i+j=0\n",
            " i=0 j=1 i+j=1\n",
            " i=0 j=2 i+j=2\n",
            " i=0 j=3 i+j=3\n",
            "now i = 1\n",
            "start j loop\n",
            " i=1 j=0 i+j=1\n",
            " i=1 j=1 i+j=2\n",
            " i=1 j=2 i+j=3\n",
            " i=1 j=3 i+j=4\n",
            "now i = 2\n",
            "start j loop\n",
            " i=2 j=0 i+j=2\n",
            " i=2 j=1 i+j=3\n",
            " i=2 j=2 i+j=4\n",
            " i=2 j=3 i+j=5\n"
          ],
          "name": "stdout"
        }
      ]
    },
    {
      "cell_type": "markdown",
      "metadata": {
        "id": "8JGnRdQDHrml"
      },
      "source": [
        "# Condition\n",
        "\n",
        "# Function"
      ]
    },
    {
      "cell_type": "code",
      "metadata": {
        "id": "WndZZVrXLb2g",
        "outputId": "a5fe5f05-92fb-4f16-c5a2-dd4432b1344d",
        "colab": {
          "base_uri": "https://localhost:8080/",
          "height": 153
        }
      },
      "source": [
        "password ='12345'\n",
        "\n",
        "input_pass ='123sf'\n",
        "if input_pass == password:\n",
        "   print('Welcome!')\n",
        "   elif len(input_pass) > len(password):\n",
        "     print('Too long, try again')\n",
        "     elif len(input_pass) < len(password):\n",
        "     ('Too short, try again')\n",
        "     else:\n",
        "       print('Wrong password, try agsin!')"
      ],
      "execution_count": 4,
      "outputs": [
        {
          "output_type": "error",
          "ename": "SyntaxError",
          "evalue": "ignored",
          "traceback": [
            "\u001b[0;36m  File \u001b[0;32m\"<ipython-input-4-fe2ec036e763>\"\u001b[0;36m, line \u001b[0;32m6\u001b[0m\n\u001b[0;31m    elif len(input_pass) > len(password):\u001b[0m\n\u001b[0m       ^\u001b[0m\n\u001b[0;31mSyntaxError\u001b[0m\u001b[0;31m:\u001b[0m invalid syntax\n"
          ]
        }
      ]
    },
    {
      "cell_type": "markdown",
      "metadata": {
        "id": "h3k-rfbRK86Q"
      },
      "source": [
        "Quiz 1 หา min\n",
        "\n"
      ]
    },
    {
      "cell_type": "code",
      "metadata": {
        "id": "nU2w6RvuN8pN",
        "outputId": "3c6d2649-958c-4ad1-8d9e-5e4c82118d21",
        "colab": {
          "base_uri": "https://localhost:8080/"
        }
      },
      "source": [
        "list_ex = [1,5,9,-19,-2,0] #หาค่าน้อยที่สุดใน list_ex โดยไม่ไม่ใช้ function min (commit ก่อน 10:30 Quiz1)\n",
        "list_ex[3: 4 : 2]"
      ],
      "execution_count": 11,
      "outputs": [
        {
          "output_type": "execute_result",
          "data": {
            "text/plain": [
              "[-19]"
            ]
          },
          "metadata": {
            "tags": []
          },
          "execution_count": 11
        }
      ]
    }
  ]
}