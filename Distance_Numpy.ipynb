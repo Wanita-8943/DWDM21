{
  "nbformat": 4,
  "nbformat_minor": 0,
  "metadata": {
    "colab": {
      "name": "Distance_Numpy.ipynb",
      "provenance": [],
      "toc_visible": true,
      "include_colab_link": true
    },
    "kernelspec": {
      "name": "python3",
      "display_name": "Python 3"
    },
    "language_info": {
      "name": "python"
    }
  },
  "cells": [
    {
      "cell_type": "markdown",
      "metadata": {
        "id": "view-in-github",
        "colab_type": "text"
      },
      "source": [
        "<a href=\"https://colab.research.google.com/github/Wanita-8943/DWDM21/blob/main/Distance_Numpy.ipynb\" target=\"_parent\"><img src=\"https://colab.research.google.com/assets/colab-badge.svg\" alt=\"Open In Colab\"/></a>"
      ]
    },
    {
      "cell_type": "markdown",
      "metadata": {
        "id": "5CDqC4kRH4xN"
      },
      "source": [
        "#Distance_Numpy"
      ]
    },
    {
      "cell_type": "code",
      "metadata": {
        "id": "oA0-Rm_3SZYT"
      },
      "source": [
        "import numpy as np        # package สำหรับทำงานกับข้อมูลที่เป็นตัวเลข (อยู่ในรูปแบบ matrix)"
      ],
      "execution_count": null,
      "outputs": []
    },
    {
      "cell_type": "markdown",
      "metadata": {
        "id": "aTeVNN07SmPw"
      },
      "source": [
        "## Numpy array\n",
        "\n"
      ]
    },
    {
      "cell_type": "markdown",
      "metadata": {
        "id": "FOhT7ahFIV4i"
      },
      "source": [
        "###สร้าง numpy array (matrix) จาก list"
      ]
    },
    {
      "cell_type": "code",
      "metadata": {
        "id": "egFP5dyjSqWm"
      },
      "source": [
        "np_a = np.array([[1,2,3],[4,5,6]])     # สร้าง numpy array ที่มี 2 แถว 3 หลัก"
      ],
      "execution_count": null,
      "outputs": []
    },
    {
      "cell_type": "code",
      "metadata": {
        "colab": {
          "base_uri": "https://localhost:8080/"
        },
        "id": "cuStQnInSsMB",
        "outputId": "54560eef-6c73-4f98-d372-df38c337d78d"
      },
      "source": [
        "np_a"
      ],
      "execution_count": null,
      "outputs": [
        {
          "output_type": "execute_result",
          "data": {
            "text/plain": [
              "array([[1, 2, 3],\n",
              "       [4, 5, 6]])"
            ]
          },
          "metadata": {},
          "execution_count": 3
        }
      ]
    },
    {
      "cell_type": "code",
      "metadata": {
        "colab": {
          "base_uri": "https://localhost:8080/"
        },
        "id": "NDTAGZwmSt4p",
        "outputId": "2bd77dc4-3e1a-4b1f-ef69-c8d2172fd0c9"
      },
      "source": [
        "np_a.shape#เช็คขนาด"
      ],
      "execution_count": null,
      "outputs": [
        {
          "output_type": "execute_result",
          "data": {
            "text/plain": [
              "(2, 3)"
            ]
          },
          "metadata": {},
          "execution_count": 4
        }
      ]
    },
    {
      "cell_type": "code",
      "metadata": {
        "colab": {
          "base_uri": "https://localhost:8080/"
        },
        "id": "wJolxQ9iSvmd",
        "outputId": "1b304200-83a8-4dd9-e110-81af3675c046"
      },
      "source": [
        "np_b = np.array([[1,4],[2,5],[3,6]])\n",
        "np_b # 3แถว 2 หลัก"
      ],
      "execution_count": null,
      "outputs": [
        {
          "output_type": "execute_result",
          "data": {
            "text/plain": [
              "array([[1, 4],\n",
              "       [2, 5],\n",
              "       [3, 6]])"
            ]
          },
          "metadata": {},
          "execution_count": 5
        }
      ]
    },
    {
      "cell_type": "markdown",
      "metadata": {
        "id": "JJXZjZJ2SzGo"
      },
      "source": [
        "#### matrix transpose"
      ]
    },
    {
      "cell_type": "code",
      "metadata": {
        "colab": {
          "base_uri": "https://localhost:8080/"
        },
        "id": "4f_Rm2ODSxDQ",
        "outputId": "7820ec5e-e36e-406d-cc01-022150c0df71"
      },
      "source": [
        "np_a.T# กลับแถวเป็นหลัก\n",
        "# np_a tranpose แล้วจะได้ np_b"
      ],
      "execution_count": null,
      "outputs": [
        {
          "output_type": "execute_result",
          "data": {
            "text/plain": [
              "array([[1, 4],\n",
              "       [2, 5],\n",
              "       [3, 6]])"
            ]
          },
          "metadata": {},
          "execution_count": 6
        }
      ]
    },
    {
      "cell_type": "markdown",
      "metadata": {
        "id": "43KB8zL7S7Ae"
      },
      "source": [
        "### สร้าง matrix เริ่มต้น (zeros, ones)"
      ]
    },
    {
      "cell_type": "code",
      "metadata": {
        "colab": {
          "base_uri": "https://localhost:8080/"
        },
        "id": "C7mgQSZYS8HF",
        "outputId": "5e2b0fc3-e262-4ac9-abc4-d51566aeab4a"
      },
      "source": [
        "#สร้าง matrix ที่เรากำหนดขนาดให้มัน\n",
        "np_z = np.zeros((4,5))#สร้าง เมทริกค์ที่มีค่าเป็น 0 ขนาด 4x5\n",
        "np_z"
      ],
      "execution_count": null,
      "outputs": [
        {
          "output_type": "execute_result",
          "data": {
            "text/plain": [
              "array([[0., 0., 0., 0., 0.],\n",
              "       [0., 0., 0., 0., 0.],\n",
              "       [0., 0., 0., 0., 0.],\n",
              "       [0., 0., 0., 0., 0.]])"
            ]
          },
          "metadata": {},
          "execution_count": 7
        }
      ]
    },
    {
      "cell_type": "code",
      "metadata": {
        "colab": {
          "base_uri": "https://localhost:8080/"
        },
        "id": "yO-RBxweS-Ip",
        "outputId": "409cc0e4-32ea-4161-94d3-cfb8fb53978e"
      },
      "source": [
        "np_o = np.ones((5,6))#สร้าง เมทริกค์ที่มีค่าเป็น 1 ขนาด 5x6\n",
        "np_o"
      ],
      "execution_count": null,
      "outputs": [
        {
          "output_type": "execute_result",
          "data": {
            "text/plain": [
              "array([[1., 1., 1., 1., 1., 1.],\n",
              "       [1., 1., 1., 1., 1., 1.],\n",
              "       [1., 1., 1., 1., 1., 1.],\n",
              "       [1., 1., 1., 1., 1., 1.],\n",
              "       [1., 1., 1., 1., 1., 1.]])"
            ]
          },
          "metadata": {},
          "execution_count": 8
        }
      ]
    },
    {
      "cell_type": "code",
      "metadata": {
        "colab": {
          "base_uri": "https://localhost:8080/"
        },
        "id": "tR9iVqFOTAX8",
        "outputId": "411662cb-2e0d-4f09-bbdc-22bf90b1adb4"
      },
      "source": [
        "np_200 = 200 * np.ones((4,7))#สร้างเมทริกซ์ที่ทุกค่าเป็น 200 โดยใช้ np.ones ให้นำค่าที่ต้องการมาคูณ\n",
        "np_200"
      ],
      "execution_count": null,
      "outputs": [
        {
          "output_type": "execute_result",
          "data": {
            "text/plain": [
              "array([[200., 200., 200., 200., 200., 200., 200.],\n",
              "       [200., 200., 200., 200., 200., 200., 200.],\n",
              "       [200., 200., 200., 200., 200., 200., 200.],\n",
              "       [200., 200., 200., 200., 200., 200., 200.]])"
            ]
          },
          "metadata": {},
          "execution_count": 9
        }
      ]
    },
    {
      "cell_type": "markdown",
      "metadata": {
        "id": "Xv8bt4eSTEfg"
      },
      "source": [
        "### สร้าง matrix random"
      ]
    },
    {
      "cell_type": "code",
      "metadata": {
        "colab": {
          "base_uri": "https://localhost:8080/"
        },
        "id": "ivgZMxlITCyo",
        "outputId": "a23fd26d-6cc3-4dab-ba06-a7dd7772dcf4"
      },
      "source": [
        "np.random.randn(5,5)     #random เลขมาจาก normal distribution ที่มี mu=0 std=1"
      ],
      "execution_count": null,
      "outputs": [
        {
          "output_type": "execute_result",
          "data": {
            "text/plain": [
              "array([[-0.92068823, -0.98289188, -0.04959219,  0.7213917 ,  0.3606868 ],\n",
              "       [-0.09303899,  0.11642897, -0.50643324,  0.28904296, -1.15014372],\n",
              "       [-0.0700762 ,  2.02634766,  0.11939825,  2.03682465,  1.31435401],\n",
              "       [ 0.65569233, -2.70253079, -0.38106206,  0.30263403,  1.10948899],\n",
              "       [ 1.30975382, -0.73452756,  0.85323964,  1.92695176,  1.14387028]])"
            ]
          },
          "metadata": {},
          "execution_count": 10
        }
      ]
    },
    {
      "cell_type": "code",
      "metadata": {
        "colab": {
          "base_uri": "https://localhost:8080/"
        },
        "id": "cQuOnSl-THL5",
        "outputId": "0d591b26-8c45-45d3-8831-7c0242c2f406"
      },
      "source": [
        "2*(5*np.random.randn(3,3))     #random เลขมาจาก normal distribution ที่มี mu=2 std=5"
      ],
      "execution_count": null,
      "outputs": [
        {
          "output_type": "execute_result",
          "data": {
            "text/plain": [
              "array([[ 16.7935398 ,   4.53867231,   3.79413401],\n",
              "       [-18.77226084,  22.62511974,  22.48830937],\n",
              "       [ -0.9985102 ,  -6.74765097,   7.74652779]])"
            ]
          },
          "metadata": {},
          "execution_count": 11
        }
      ]
    },
    {
      "cell_type": "code",
      "metadata": {
        "colab": {
          "base_uri": "https://localhost:8080/"
        },
        "id": "HLzfpz0rTIky",
        "outputId": "f0e38edf-ef57-431f-ec7e-0f2a0d11f327"
      },
      "source": [
        "np.random.randint(5,11,(4,5))     # random เลขจำนวนเต็ม ระหว่าง (5,11) ขนาด (4x5)"
      ],
      "execution_count": null,
      "outputs": [
        {
          "output_type": "execute_result",
          "data": {
            "text/plain": [
              "array([[ 5, 10, 10, 10,  7],\n",
              "       [ 8,  8, 10,  7,  9],\n",
              "       [ 9,  7,  9,  8, 10],\n",
              "       [ 7,  5,  7,  6,  8]])"
            ]
          },
          "metadata": {},
          "execution_count": 12
        }
      ]
    },
    {
      "cell_type": "markdown",
      "metadata": {
        "id": "oXt2PTB9Orr6"
      },
      "source": [
        "#### matix properties"
      ]
    },
    {
      "cell_type": "code",
      "metadata": {
        "id": "btdt1fxeTKIR",
        "colab": {
          "base_uri": "https://localhost:8080/"
        },
        "outputId": "37316d7b-2b77-4f25-d928-db6d0fdf01f8"
      },
      "source": [
        "np_a"
      ],
      "execution_count": null,
      "outputs": [
        {
          "output_type": "execute_result",
          "data": {
            "text/plain": [
              "array([[1, 2, 3],\n",
              "       [4, 5, 6]])"
            ]
          },
          "metadata": {},
          "execution_count": 13
        }
      ]
    },
    {
      "cell_type": "code",
      "metadata": {
        "id": "iuvLDg4fO3Et",
        "colab": {
          "base_uri": "https://localhost:8080/"
        },
        "outputId": "05b63f53-c2b3-431a-8d76-a48fb0a04703"
      },
      "source": [
        "np_a.T #transpose"
      ],
      "execution_count": null,
      "outputs": [
        {
          "output_type": "execute_result",
          "data": {
            "text/plain": [
              "array([[1, 4],\n",
              "       [2, 5],\n",
              "       [3, 6]])"
            ]
          },
          "metadata": {},
          "execution_count": 14
        }
      ]
    },
    {
      "cell_type": "code",
      "metadata": {
        "id": "qYhQFdbhO57n",
        "colab": {
          "base_uri": "https://localhost:8080/"
        },
        "outputId": "544b2ac7-609f-406f-c7c8-a26b4cbce424"
      },
      "source": [
        "1+np_a #add scalar to matix บวก"
      ],
      "execution_count": null,
      "outputs": [
        {
          "output_type": "execute_result",
          "data": {
            "text/plain": [
              "array([[2, 3, 4],\n",
              "       [5, 6, 7]])"
            ]
          },
          "metadata": {},
          "execution_count": 15
        }
      ]
    },
    {
      "cell_type": "code",
      "metadata": {
        "id": "uLEC78g5PEWQ",
        "colab": {
          "base_uri": "https://localhost:8080/"
        },
        "outputId": "0ed1f0f7-1da1-4918-f745-75d306d1610f"
      },
      "source": [
        "2*np_a #muliply scalar to matrix คูณ"
      ],
      "execution_count": null,
      "outputs": [
        {
          "output_type": "execute_result",
          "data": {
            "text/plain": [
              "array([[ 2,  4,  6],\n",
              "       [ 8, 10, 12]])"
            ]
          },
          "metadata": {},
          "execution_count": 16
        }
      ]
    },
    {
      "cell_type": "code",
      "metadata": {
        "id": "B34-vtaFPP9t"
      },
      "source": [
        "np_c = np.array([[6,5,4],[3,2,1]])"
      ],
      "execution_count": null,
      "outputs": []
    },
    {
      "cell_type": "code",
      "metadata": {
        "id": "t2_5RihvPixF",
        "colab": {
          "base_uri": "https://localhost:8080/"
        },
        "outputId": "8d8fc1de-6d32-4405-bbed-f64c166052fd"
      },
      "source": [
        "np_a+np_c #adding matix to matix"
      ],
      "execution_count": null,
      "outputs": [
        {
          "output_type": "execute_result",
          "data": {
            "text/plain": [
              "array([[7, 7, 7],\n",
              "       [7, 7, 7]])"
            ]
          },
          "metadata": {},
          "execution_count": 18
        }
      ]
    },
    {
      "cell_type": "code",
      "metadata": {
        "id": "VhwYVDdSQDnb",
        "colab": {
          "base_uri": "https://localhost:8080/"
        },
        "outputId": "c535ffe8-c790-4cc6-c532-92484b8a356a"
      },
      "source": [
        "np_a.shape"
      ],
      "execution_count": null,
      "outputs": [
        {
          "output_type": "execute_result",
          "data": {
            "text/plain": [
              "(2, 3)"
            ]
          },
          "metadata": {},
          "execution_count": 19
        }
      ]
    },
    {
      "cell_type": "code",
      "metadata": {
        "id": "SFexGBUyQGtb",
        "colab": {
          "base_uri": "https://localhost:8080/"
        },
        "outputId": "334010d7-92a1-4599-f1d3-9b74b4d8e751"
      },
      "source": [
        "np_c.shape"
      ],
      "execution_count": null,
      "outputs": [
        {
          "output_type": "execute_result",
          "data": {
            "text/plain": [
              "(2, 3)"
            ]
          },
          "metadata": {},
          "execution_count": 20
        }
      ]
    },
    {
      "cell_type": "code",
      "metadata": {
        "id": "9lOuQvEgQph2",
        "colab": {
          "base_uri": "https://localhost:8080/"
        },
        "outputId": "1d5d770f-14a8-4f1e-f955-7e36d8c8aeae"
      },
      "source": [
        "np_c.T.shape"
      ],
      "execution_count": null,
      "outputs": [
        {
          "output_type": "execute_result",
          "data": {
            "text/plain": [
              "(3, 2)"
            ]
          },
          "metadata": {},
          "execution_count": 21
        }
      ]
    },
    {
      "cell_type": "markdown",
      "metadata": {
        "id": "KRFr44UiplMf"
      },
      "source": [
        "![ดาวน์โหลด (1).png](data:image/png;base64,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)"
      ]
    },
    {
      "cell_type": "code",
      "metadata": {
        "id": "W6sfoEiuQJ_I",
        "colab": {
          "base_uri": "https://localhost:8080/"
        },
        "outputId": "3b1540e4-b2de-4306-da0d-30f5c40f924e"
      },
      "source": [
        "np.dot(np_a,np_c.T) # multipling matrix to matix (a,b) x (b,c) =(a,c) คูณเมทริคกับเมทริค"
      ],
      "execution_count": null,
      "outputs": [
        {
          "output_type": "execute_result",
          "data": {
            "text/plain": [
              "array([[28, 10],\n",
              "       [73, 28]])"
            ]
          },
          "metadata": {},
          "execution_count": 22
        }
      ]
    },
    {
      "cell_type": "markdown",
      "metadata": {
        "id": "DrpZdTcjR7zX"
      },
      "source": [
        "### Indexing&Slicing"
      ]
    },
    {
      "cell_type": "code",
      "metadata": {
        "id": "z3hxART3Q1QB",
        "colab": {
          "base_uri": "https://localhost:8080/"
        },
        "outputId": "524218eb-9d51-40bb-901f-50888b12e0e5"
      },
      "source": [
        "np_a"
      ],
      "execution_count": null,
      "outputs": [
        {
          "output_type": "execute_result",
          "data": {
            "text/plain": [
              "array([[1, 2, 3],\n",
              "       [4, 5, 6]])"
            ]
          },
          "metadata": {},
          "execution_count": 23
        }
      ]
    },
    {
      "cell_type": "code",
      "metadata": {
        "id": "s_kLlcMESEqa",
        "colab": {
          "base_uri": "https://localhost:8080/"
        },
        "outputId": "0559bab6-d17c-410e-d315-a9c05e9a1d07"
      },
      "source": [
        "np_a[1,1]#ชี้"
      ],
      "execution_count": null,
      "outputs": [
        {
          "output_type": "execute_result",
          "data": {
            "text/plain": [
              "5"
            ]
          },
          "metadata": {},
          "execution_count": 24
        }
      ]
    },
    {
      "cell_type": "code",
      "metadata": {
        "id": "Z8OPl4c7SH0X",
        "colab": {
          "base_uri": "https://localhost:8080/"
        },
        "outputId": "a76bafed-0100-4f49-8670-7603117c4b6b"
      },
      "source": [
        "np_a[:2,:2] #ตัด สไลด์ เอาตัวแรกถึงตัวที่2ข้างหลังไม่เอา"
      ],
      "execution_count": null,
      "outputs": [
        {
          "output_type": "execute_result",
          "data": {
            "text/plain": [
              "array([[1, 2],\n",
              "       [4, 5]])"
            ]
          },
          "metadata": {},
          "execution_count": 25
        }
      ]
    },
    {
      "cell_type": "code",
      "metadata": {
        "id": "-k5xy6gRSU-k",
        "colab": {
          "base_uri": "https://localhost:8080/"
        },
        "outputId": "dee2313a-268e-4d0e-88b6-cd7f1b4d97d8"
      },
      "source": [
        "np_a[0,:]"
      ],
      "execution_count": null,
      "outputs": [
        {
          "output_type": "execute_result",
          "data": {
            "text/plain": [
              "array([1, 2, 3])"
            ]
          },
          "metadata": {},
          "execution_count": 26
        }
      ]
    },
    {
      "cell_type": "markdown",
      "metadata": {
        "id": "nrbGYRIQSswL"
      },
      "source": [
        "### Useful functions"
      ]
    },
    {
      "cell_type": "code",
      "metadata": {
        "id": "_FyknwLES5Ea",
        "colab": {
          "base_uri": "https://localhost:8080/"
        },
        "outputId": "b949a36c-dca3-4543-e34e-9f26056a7517"
      },
      "source": [
        "np_a"
      ],
      "execution_count": null,
      "outputs": [
        {
          "output_type": "execute_result",
          "data": {
            "text/plain": [
              "array([[1, 2, 3],\n",
              "       [4, 5, 6]])"
            ]
          },
          "metadata": {},
          "execution_count": 27
        }
      ]
    },
    {
      "cell_type": "code",
      "metadata": {
        "id": "Tv5AU7fuShAt",
        "colab": {
          "base_uri": "https://localhost:8080/"
        },
        "outputId": "25469df8-3631-4cbc-8f23-deef32fa774a"
      },
      "source": [
        "np.sum(np_a)#บวกทุกตัวในนั้น"
      ],
      "execution_count": null,
      "outputs": [
        {
          "output_type": "execute_result",
          "data": {
            "text/plain": [
              "21"
            ]
          },
          "metadata": {},
          "execution_count": 28
        }
      ]
    },
    {
      "cell_type": "code",
      "metadata": {
        "id": "rcY1VT9hS4el",
        "colab": {
          "base_uri": "https://localhost:8080/"
        },
        "outputId": "22a96473-5b3e-4561-8aea-dced2f91f8da"
      },
      "source": [
        "np.sum(np_a,axis=0)#ค่าในแนวนอนทั้งหมดมารวมกัน #axis=0 ก็คือรวมเลขในแต่ละแถว"
      ],
      "execution_count": null,
      "outputs": [
        {
          "output_type": "execute_result",
          "data": {
            "text/plain": [
              "array([5, 7, 9])"
            ]
          },
          "metadata": {},
          "execution_count": 29
        }
      ]
    },
    {
      "cell_type": "code",
      "metadata": {
        "id": "jdfAIZ15TLCE",
        "colab": {
          "base_uri": "https://localhost:8080/"
        },
        "outputId": "186b9856-eed0-42d8-90f0-3d19d56906d2"
      },
      "source": [
        "np.sum(np_a,axis=1)#ค่าในแนวตั้งทั้งหมดมารวมกัน #axis=0 ก็คือรวมเลขในแต่ละหลัก"
      ],
      "execution_count": null,
      "outputs": [
        {
          "output_type": "execute_result",
          "data": {
            "text/plain": [
              "array([ 6, 15])"
            ]
          },
          "metadata": {},
          "execution_count": 30
        }
      ]
    },
    {
      "cell_type": "code",
      "metadata": {
        "id": "pTKcws1oTVLD",
        "colab": {
          "base_uri": "https://localhost:8080/"
        },
        "outputId": "0812fdbd-78cf-4ba8-a07f-0b59c6ee0b99"
      },
      "source": [
        "np.mean(np_a)#ดูค่ามีน"
      ],
      "execution_count": null,
      "outputs": [
        {
          "output_type": "execute_result",
          "data": {
            "text/plain": [
              "3.5"
            ]
          },
          "metadata": {},
          "execution_count": 31
        }
      ]
    },
    {
      "cell_type": "code",
      "metadata": {
        "id": "wiarzi9_Tjrc",
        "colab": {
          "base_uri": "https://localhost:8080/"
        },
        "outputId": "f119edc2-e961-47ab-c433-42d6c3f28a42"
      },
      "source": [
        "np.mean(np_a,axis=0)#หามีนของแต่ละคอลัมน์"
      ],
      "execution_count": null,
      "outputs": [
        {
          "output_type": "execute_result",
          "data": {
            "text/plain": [
              "array([2.5, 3.5, 4.5])"
            ]
          },
          "metadata": {},
          "execution_count": 32
        }
      ]
    },
    {
      "cell_type": "markdown",
      "metadata": {
        "id": "l_MZInTWUuSv"
      },
      "source": [
        "### วนลูปเอง"
      ]
    },
    {
      "cell_type": "markdown",
      "metadata": {
        "id": "BzfgrHirVAit"
      },
      "source": [
        "####summatiom รวมค่าทุกค่าในarray"
      ]
    },
    {
      "cell_type": "code",
      "metadata": {
        "id": "GHHSiOuDWsyl",
        "colab": {
          "base_uri": "https://localhost:8080/"
        },
        "outputId": "581f9a6e-64d2-49d2-b026-33a3486b11ab"
      },
      "source": [
        "np_a.shape"
      ],
      "execution_count": null,
      "outputs": [
        {
          "output_type": "execute_result",
          "data": {
            "text/plain": [
              "(2, 3)"
            ]
          },
          "metadata": {},
          "execution_count": 33
        }
      ]
    },
    {
      "cell_type": "markdown",
      "metadata": {
        "id": "Ph1dh62uWztN"
      },
      "source": [
        "```np.sum(np_a)```"
      ]
    },
    {
      "cell_type": "code",
      "metadata": {
        "id": "xNQ2r0rUT6Fb",
        "colab": {
          "base_uri": "https://localhost:8080/"
        },
        "outputId": "889b3110-2b82-4d1c-bb45-1b22e2cba80b"
      },
      "source": [
        "sum_all = 0\n",
        "\n",
        "for row in range(np_a.shape[0]):\n",
        "     for col in range(np_a.shape[1]):\n",
        "          sum_all = sum_all + np_a[row,col]\n",
        "          print(f'we are at row={row},col={col} np_a[{row},{col}]={np_a[row,col]} sum_all={sum_all}')\n",
        "print(sum_all)"
      ],
      "execution_count": null,
      "outputs": [
        {
          "output_type": "stream",
          "name": "stdout",
          "text": [
            "we are at row=0,col=0 np_a[0,0]=1 sum_all=1\n",
            "we are at row=0,col=1 np_a[0,1]=2 sum_all=3\n",
            "we are at row=0,col=2 np_a[0,2]=3 sum_all=6\n",
            "we are at row=1,col=0 np_a[1,0]=4 sum_all=10\n",
            "we are at row=1,col=1 np_a[1,1]=5 sum_all=15\n",
            "we are at row=1,col=2 np_a[1,2]=6 sum_all=21\n",
            "21\n"
          ]
        }
      ]
    },
    {
      "cell_type": "markdown",
      "metadata": {
        "id": "avzU9RVEXHpM"
      },
      "source": [
        "```np.sum(np_a,axis=0)```"
      ]
    },
    {
      "cell_type": "code",
      "metadata": {
        "id": "SDfWOCB5WdBN",
        "colab": {
          "base_uri": "https://localhost:8080/"
        },
        "outputId": "34d7de23-7b72-4b02-b0c5-c6ece1c3439e"
      },
      "source": [
        "sum_all = np.zeros(np_a.shape[1])\n",
        "\n",
        "for row in range(np_a.shape[0]):\n",
        "     for col in range(np_a.shape[1]):\n",
        "          sum_all[col] = sum_all[col] + np_a[row,col]\n",
        "print(sum_all)"
      ],
      "execution_count": null,
      "outputs": [
        {
          "output_type": "stream",
          "name": "stdout",
          "text": [
            "[5. 7. 9.]\n"
          ]
        }
      ]
    },
    {
      "cell_type": "markdown",
      "metadata": {
        "id": "mviALMbJYl1H"
      },
      "source": [
        "Quiz กลุ่ม\n",
        "\n",
        "วนลูปหาค่า\n",
        "* ```np.sum(np_a,axis=1)```\n",
        "* ```np.mean(np_a)```\n",
        "* ```np.mean(np_a,axis=0)```\n",
        "* ```np.mean(np_a,axis=1)```\n",
        "* ```np.max(np_a)```\n",
        "* ```np.max(np_a,axis=0)```\n",
        "* ```np.max(np_a,axis=1)```\n",
        "* ```np.min(np_a)```\n",
        "* ```np.min(np_a,axis=0)```\n",
        "* ```np.min(np_a,axis=1)```"
      ]
    },
    {
      "cell_type": "code",
      "metadata": {
        "id": "Y4W_mRJ2fUuf",
        "colab": {
          "base_uri": "https://localhost:8080/"
        },
        "outputId": "608c1342-867e-43e5-bf75-7ee26f82a2bc"
      },
      "source": [
        "np_a"
      ],
      "execution_count": null,
      "outputs": [
        {
          "output_type": "execute_result",
          "data": {
            "text/plain": [
              "array([[1, 2, 3],\n",
              "       [4, 5, 6]])"
            ]
          },
          "metadata": {},
          "execution_count": 36
        }
      ]
    },
    {
      "cell_type": "code",
      "metadata": {
        "id": "PPKV7Yw9oKYw",
        "colab": {
          "base_uri": "https://localhost:8080/"
        },
        "outputId": "ab09250a-6d24-43cd-9028-841292f868a0"
      },
      "source": [
        "min"
      ],
      "execution_count": null,
      "outputs": [
        {
          "output_type": "execute_result",
          "data": {
            "text/plain": [
              "<function min>"
            ]
          },
          "metadata": {},
          "execution_count": 37
        }
      ]
    },
    {
      "cell_type": "code",
      "metadata": {
        "id": "Jgw-i6QNhI6s",
        "colab": {
          "base_uri": "https://localhost:8080/"
        },
        "outputId": "77172df8-043f-4f77-9362-a21195bff1c1"
      },
      "source": [
        "### 10. np.min(np_a,axis=1)\n",
        "min_row = np.zeros(np_a.shape[0])\n",
        "\n",
        "for row in range(np_a.shape[0]):\n",
        "   min_row[row] = min(np_a[row,:])\n",
        "print(min_row)"
      ],
      "execution_count": null,
      "outputs": [
        {
          "output_type": "stream",
          "name": "stdout",
          "text": [
            "[1. 4.]\n"
          ]
        }
      ]
    },
    {
      "cell_type": "code",
      "metadata": {
        "id": "At46rC3cjFYj",
        "colab": {
          "base_uri": "https://localhost:8080/"
        },
        "outputId": "07ad5ad4-dc88-41a6-b177-61b287417d16"
      },
      "source": [
        "# np.max(np_a,axis=1)\n",
        "max_all = np.zeros(np_a.shape[0])\n",
        "for row in range(np_a.shape[0]):\n",
        "    max_all[row] = max(np_a[row,:])\n",
        "print(max_all)"
      ],
      "execution_count": null,
      "outputs": [
        {
          "output_type": "stream",
          "name": "stdout",
          "text": [
            "[3. 6.]\n"
          ]
        }
      ]
    },
    {
      "cell_type": "code",
      "metadata": {
        "id": "YeglWfNfpwCs",
        "colab": {
          "base_uri": "https://localhost:8080/"
        },
        "outputId": "321f3099-9c60-4a84-941d-e378713e05cf"
      },
      "source": [
        "#np.mean(np_a,axis=0)\n",
        "mean_all = np.zeros(np_a.shape[1])\n",
        "for row in range(np_a.shape[0]):\n",
        "     for col in range(np_a.shape[1]):\n",
        "          mean_all[col] = mean_all[col] + np_a[row,col]/np_a.shape[0]\n",
        "print(mean_all)"
      ],
      "execution_count": null,
      "outputs": [
        {
          "output_type": "stream",
          "name": "stdout",
          "text": [
            "[2.5 3.5 4.5]\n"
          ]
        }
      ]
    },
    {
      "cell_type": "code",
      "metadata": {
        "id": "j-PgYheCpyOc",
        "colab": {
          "base_uri": "https://localhost:8080/"
        },
        "outputId": "e17a4055-acc8-46ff-ae38-4c294b6eaa80"
      },
      "source": [
        "#np.mean(np_a,axis=1)\n",
        "sum_all = np.zeros(np_a.shape[0])\n",
        "for row in range(np_a.shape[0]):\n",
        "    for col in range(np_a.shape[1]): \n",
        "        sum_all[row] = sum_all[row] + np_a[row,col]\n",
        "sum_all = sum_all/np_a.shape[1]\n",
        "print(sum_all)"
      ],
      "execution_count": null,
      "outputs": [
        {
          "output_type": "stream",
          "name": "stdout",
          "text": [
            "[2. 5.]\n"
          ]
        }
      ]
    },
    {
      "cell_type": "code",
      "metadata": {
        "id": "1zF0zjzPp1W-",
        "colab": {
          "base_uri": "https://localhost:8080/"
        },
        "outputId": "56ea1d59-e7ef-4c96-c5b5-5762157510f3"
      },
      "source": [
        "#np.max(np_a)\n",
        "max_a = -100000000\n",
        "for row in range(np_a.shape[0]):\n",
        "    for col in range(np_a.shape[1]):\n",
        "        if np_a[row,col] > max_a :\n",
        "            max_a = np_a[row,col]\n",
        "print(max_a)"
      ],
      "execution_count": null,
      "outputs": [
        {
          "output_type": "stream",
          "name": "stdout",
          "text": [
            "6\n"
          ]
        }
      ]
    },
    {
      "cell_type": "code",
      "metadata": {
        "id": "rwZFJlkXp3c_",
        "colab": {
          "base_uri": "https://localhost:8080/"
        },
        "outputId": "46e9d36f-2f87-44da-deba-d66c46a892ba"
      },
      "source": [
        "# np.min(np_a,axis=0)\n",
        "min_all = np.zeros(np_a.shape[1])\n",
        "\n",
        "for col in range(np_a.shape[1]):\n",
        "    min_all[col] = min(np_a[:,col])\n",
        "print(min_all)"
      ],
      "execution_count": null,
      "outputs": [
        {
          "output_type": "stream",
          "name": "stdout",
          "text": [
            "[1. 2. 3.]\n"
          ]
        }
      ]
    },
    {
      "cell_type": "code",
      "metadata": {
        "id": "QhtsFkrKp5nk",
        "colab": {
          "base_uri": "https://localhost:8080/"
        },
        "outputId": "454f80e4-782b-4135-b86d-23d277478b99"
      },
      "source": [
        "# np.min(np_a)  ลูกหมี\n",
        "minV = 100000\n",
        "for row in range(np_a.shape[0]):\n",
        "    for col in range(np_a.shape[1]):\n",
        "        if np_a[row,col] < minV:\n",
        "            minV = np_a[row,col]\n",
        "print(minV)"
      ],
      "execution_count": null,
      "outputs": [
        {
          "output_type": "stream",
          "name": "stdout",
          "text": [
            "1\n"
          ]
        }
      ]
    },
    {
      "cell_type": "code",
      "metadata": {
        "id": "l96YdZOWp7tO",
        "colab": {
          "base_uri": "https://localhost:8080/"
        },
        "outputId": "fbcb66cb-5f00-4e5b-e12c-4e0039493e20"
      },
      "source": [
        "# np.max(np_a,axis=0)\n",
        "max_all = -100000 * np.ones(np_a.shape[1])\n",
        "for col in range(np_a.shape[1]):\n",
        "    for row in range(np_a.shape[0]):\n",
        "        if np_a[row,col] > max_all[col]: \n",
        "            max_all[col] = np_a[row,col]\n",
        "print(max_all)"
      ],
      "execution_count": null,
      "outputs": [
        {
          "output_type": "stream",
          "name": "stdout",
          "text": [
            "[4. 5. 6.]\n"
          ]
        }
      ]
    },
    {
      "cell_type": "code",
      "metadata": {
        "id": "bCI2sZs6p-17",
        "colab": {
          "base_uri": "https://localhost:8080/"
        },
        "outputId": "f17449fd-53f5-4dd2-bdae-ac1675a09f81"
      },
      "source": [
        "#np.mean(np_a)\n",
        "mean_all = 0\n",
        "for row in range(np_a.shape[0]):\n",
        "    for col in range(np_a.shape[1]):\n",
        "        mean_all = mean_all + np_a[row,col]\n",
        "mean_all = mean_all/(np_a.shape[0]*np_a.shape[1])\n",
        "print(mean_all)"
      ],
      "execution_count": null,
      "outputs": [
        {
          "output_type": "stream",
          "name": "stdout",
          "text": [
            "3.5\n"
          ]
        }
      ]
    },
    {
      "cell_type": "markdown",
      "metadata": {
        "id": "1jIVpBwakLBN"
      },
      "source": [
        "##Distance Matrix"
      ]
    },
    {
      "cell_type": "code",
      "metadata": {
        "id": "pGOn8bojqAjt",
        "colab": {
          "base_uri": "https://localhost:8080/"
        },
        "outputId": "4e3dcc95-d749-4409-bb7b-cc6aa605480b"
      },
      "source": [
        "data1 = np.array([[1,2],[3,5],[2,0],[4,5]])   \n",
        "data1"
      ],
      "execution_count": null,
      "outputs": [
        {
          "output_type": "execute_result",
          "data": {
            "text/plain": [
              "array([[1, 2],\n",
              "       [3, 5],\n",
              "       [2, 0],\n",
              "       [4, 5]])"
            ]
          },
          "metadata": {},
          "execution_count": 47
        }
      ]
    },
    {
      "cell_type": "code",
      "metadata": {
        "id": "N3npj6GgkPpq",
        "colab": {
          "base_uri": "https://localhost:8080/",
          "height": 282
        },
        "outputId": "6f324ccf-1840-434e-dfee-1c1801ccfd93"
      },
      "source": [
        "from matplotlib import pyplot as plt\n",
        "plt.scatter(data1[:,0],data1[:,1])"
      ],
      "execution_count": null,
      "outputs": [
        {
          "output_type": "execute_result",
          "data": {
            "text/plain": [
              "<matplotlib.collections.PathCollection at 0x7fc8c4636c50>"
            ]
          },
          "metadata": {},
          "execution_count": 48
        },
        {
          "output_type": "display_data",
          "data": {
            "image/png": "[encoded data removed]",
            "text/plain": [
              "<Figure size 432x288 with 1 Axes>"
            ]
          },
          "metadata": {
            "needs_background": "light"
          }
        }
      ]
    },
    {
      "cell_type": "markdown",
      "metadata": {
        "id": "UjvIfbq1kZSc"
      },
      "source": [
        "### Euclidean Distance (L2-norm)\n",
        "$\\sqrt{(x_1-x_2)^2+(y_1-y_2)^2}$\n"
      ]
    },
    {
      "cell_type": "code",
      "metadata": {
        "id": "3vLjxD3EknHb",
        "colab": {
          "base_uri": "https://localhost:8080/"
        },
        "outputId": "8d68ba97-d08b-4d4e-8095-a031557857ed"
      },
      "source": [
        "dist_p1_p2 = np.sqrt(np.power(data1[0,0]-data1[1,0],2) + np.power(data1[0,1]-data1[1,1],2))        #ยกกำลัง โดยใช้ np.powre(dataตัวที่1)(dataตัวที่2),2\n",
        "dist_p1_p2"
      ],
      "execution_count": null,
      "outputs": [
        {
          "output_type": "execute_result",
          "data": {
            "text/plain": [
              "3.605551275463989"
            ]
          },
          "metadata": {},
          "execution_count": 49
        }
      ]
    },
    {
      "cell_type": "code",
      "metadata": {
        "id": "X5w8pnILknmq",
        "colab": {
          "base_uri": "https://localhost:8080/"
        },
        "outputId": "86988c94-fffd-4c32-cf27-e5d668a936b0"
      },
      "source": [
        "dist_p1_p2 = np.power(np.power(data1[0,0]-data1[1,0],2) + np.power(data1[0,1]-data1[1,1],2),0.5)        #ถอด sqrt โดยใช้ (np.powre(dataตัวที่1)(dataตัวที่2),2),0.5\n",
        "dist_p1_p2"
      ],
      "execution_count": null,
      "outputs": [
        {
          "output_type": "execute_result",
          "data": {
            "text/plain": [
              "3.605551275463989"
            ]
          },
          "metadata": {},
          "execution_count": 50
        }
      ]
    },
    {
      "cell_type": "code",
      "metadata": {
        "id": "dGlQh2_4kqL5",
        "colab": {
          "base_uri": "https://localhost:8080/"
        },
        "outputId": "ae425507-c692-4f1c-e7dc-2abcbcfa1a51"
      },
      "source": [
        "dist_p2_p4 = np.sqrt(np.power(data1[1,0]-data1[3,0],2) + np.power(data1[1,1]-data1[3,1],2))       #ยกกำลัง โดยใช้ np.powre(dataตัวที่1)(dataตัวที่2),2\n",
        "dist_p2_p4"
      ],
      "execution_count": null,
      "outputs": [
        {
          "output_type": "execute_result",
          "data": {
            "text/plain": [
              "1.0"
            ]
          },
          "metadata": {},
          "execution_count": 51
        }
      ]
    },
    {
      "cell_type": "markdown",
      "metadata": {
        "id": "x32gF2eYkwUS"
      },
      "source": [
        "### Distance function\n",
        "\n",
        "p1 = [x,y]\n",
        "\n",
        "dim = 2"
      ]
    },
    {
      "cell_type": "code",
      "metadata": {
        "id": "pgjUf-NVktkC"
      },
      "source": [
        "def dist_l2_2(p1,p2):\n",
        "    return np.sqrt(np.power(p1[0]-p2[0],2) + np.power(p1[1]-p2[1],2))"
      ],
      "execution_count": null,
      "outputs": []
    },
    {
      "cell_type": "code",
      "metadata": {
        "id": "loezBcnEk0mw",
        "colab": {
          "base_uri": "https://localhost:8080/"
        },
        "outputId": "6c5d6cd0-c88f-4863-c0fa-d50891d40533"
      },
      "source": [
        "dist_l2_2(data1[0,:],data1[1,:])   #p1,p2 ทุกๆหลัก    #ทดลองใช้ฟังก์ชั่นระหว่างจุด"
      ],
      "execution_count": null,
      "outputs": [
        {
          "output_type": "execute_result",
          "data": {
            "text/plain": [
              "3.605551275463989"
            ]
          },
          "metadata": {},
          "execution_count": 53
        }
      ]
    },
    {
      "cell_type": "code",
      "metadata": {
        "id": "p8oXy49pk3_i",
        "colab": {
          "base_uri": "https://localhost:8080/"
        },
        "outputId": "7476fe33-596d-4a23-af70-6ae92b6032d6"
      },
      "source": [
        "dist_l2_2(data1[1,:],data1[3,:])  #p2,p4 ทุกๆหลัก   #ทดลองใช้ฟังก์ชั่นระหว่างจุด"
      ],
      "execution_count": null,
      "outputs": [
        {
          "output_type": "execute_result",
          "data": {
            "text/plain": [
              "1.0"
            ]
          },
          "metadata": {},
          "execution_count": 54
        }
      ]
    },
    {
      "cell_type": "markdown",
      "metadata": {
        "id": "YUMWFGqak_Ac"
      },
      "source": [
        "**dim = n**"
      ]
    },
    {
      "cell_type": "code",
      "metadata": {
        "id": "TcK3hAAPk6Jd"
      },
      "source": [
        "def dist_l2_n(p1,p2):\n",
        "    sum = 0\n",
        "    for i in range(len(p1)):\n",
        "        sum = sum + np.power(p1[i]-p2[1],2)\n",
        "    return np.sqrt(sum)"
      ],
      "execution_count": null,
      "outputs": []
    },
    {
      "cell_type": "code",
      "metadata": {
        "id": "_NzCGc0ak-ZN",
        "colab": {
          "base_uri": "https://localhost:8080/"
        },
        "outputId": "8b683b9a-4cbe-4fae-e68a-a63c0676b818"
      },
      "source": [
        "dist_l2_n(data1[0,:],data1[1,:])"
      ],
      "execution_count": null,
      "outputs": [
        {
          "output_type": "execute_result",
          "data": {
            "text/plain": [
              "5.0"
            ]
          },
          "metadata": {},
          "execution_count": 56
        }
      ]
    },
    {
      "cell_type": "markdown",
      "metadata": {
        "id": "k8bJI-j-lKDn"
      },
      "source": [
        "### Manhattan Distance (L1-norm)\n",
        "$|x_1-x_2|+|y_1-y_2|$"
      ]
    },
    {
      "cell_type": "markdown",
      "metadata": {
        "id": "HJoUhvyXlYkQ"
      },
      "source": [
        "### **quiz6**\n",
        "\n",
        "เขียน function คำนวณ manhattan distance ของ ข้อมูล 2 dimensions"
      ]
    },
    {
      "cell_type": "code",
      "metadata": {
        "id": "9fzW3pCClHKV",
        "colab": {
          "base_uri": "https://localhost:8080/"
        },
        "outputId": "a7d6c5ba-cc5c-4adb-cf31-57c2b1bc4f1e"
      },
      "source": [
        "dist_p1_p2 = (data1[0,0]-data1[1,0]) + (data1[0,1]-data1[1,1])        \n",
        "dist_p1_p2"
      ],
      "execution_count": null,
      "outputs": [
        {
          "output_type": "execute_result",
          "data": {
            "text/plain": [
              "-5"
            ]
          },
          "metadata": {},
          "execution_count": 57
        }
      ]
    },
    {
      "cell_type": "code",
      "metadata": {
        "id": "sBaY7gDnlfJs",
        "colab": {
          "base_uri": "https://localhost:8080/"
        },
        "outputId": "91199168-e71b-4bb4-c9d4-bb3fff73707a"
      },
      "source": [
        "dist_p2_p4 = (data1[1,0]-data1[3,0]) + (data1[1,1]-data1[3,1])       \n",
        "dist_p2_p4"
      ],
      "execution_count": null,
      "outputs": [
        {
          "output_type": "execute_result",
          "data": {
            "text/plain": [
              "-1"
            ]
          },
          "metadata": {},
          "execution_count": 58
        }
      ]
    },
    {
      "cell_type": "code",
      "metadata": {
        "id": "GXoVsk-elhRG"
      },
      "source": [
        "def dist_l2_q(p1,p2):\n",
        "   return (np.abs(p1[0] - p2[0]) + np.abs(p1[1] - p2[1]))"
      ],
      "execution_count": null,
      "outputs": []
    },
    {
      "cell_type": "code",
      "metadata": {
        "id": "P67rqOXUlkZP",
        "colab": {
          "base_uri": "https://localhost:8080/"
        },
        "outputId": "b263f98b-f997-4676-bea1-378790112ecf"
      },
      "source": [
        "dist_l2_q(data1[0,:],data1[1,:])"
      ],
      "execution_count": null,
      "outputs": [
        {
          "output_type": "execute_result",
          "data": {
            "text/plain": [
              "5"
            ]
          },
          "metadata": {},
          "execution_count": 60
        }
      ]
    },
    {
      "cell_type": "markdown",
      "metadata": {
        "id": "QS3EDBvulq8Q"
      },
      "source": [
        "### **HW11**\n",
        "1. Function คำนวณ manhattan distance ของ ข้อมูล N dimensions\n",
        "2. Function คำนวณ L-$\\infty$ ของ ข้อมูล N dimensions\n",
        "3. Function คำนวณ Distance Matrix ด้วย Euclidean Distance"
      ]
    },
    {
      "cell_type": "code",
      "metadata": {
        "id": "nMHjE3dfeoIr"
      },
      "source": [
        "# 1. Function คำนวณ manhattan distance ของ ข้อมูล N dimensions\n",
        "def dist_l1_N(p1,p2):\n",
        "    sum = 0\n",
        "    for i in range(len(p1)):\n",
        "        sum =  sum + np.abs(p1[i] - p2[i]) \n",
        "    return np.abs(sum)"
      ],
      "execution_count": null,
      "outputs": []
    },
    {
      "cell_type": "code",
      "metadata": {
        "id": "iR3s-dBUfE63",
        "colab": {
          "base_uri": "https://localhost:8080/"
        },
        "outputId": "97fbdaf6-83b8-4d92-abfd-4d35131f9eb7"
      },
      "source": [
        "dist_l1_N(data1[0,:],data1[1,:])"
      ],
      "execution_count": null,
      "outputs": [
        {
          "output_type": "execute_result",
          "data": {
            "text/plain": [
              "5"
            ]
          },
          "metadata": {},
          "execution_count": 62
        }
      ]
    },
    {
      "cell_type": "code",
      "metadata": {
        "id": "VLzI0cEufPVV"
      },
      "source": [
        "# 2. Function คำนวณ L- ∞  ของ ข้อมูล N dimensions\n",
        "def dist_lI_N(p1,p2):\n",
        "    return np.maximum(np.abs(p1[0] - p2[0]) , np.abs(p1[1] - p2[1]))"
      ],
      "execution_count": null,
      "outputs": []
    },
    {
      "cell_type": "code",
      "metadata": {
        "id": "3w_3BmGjfctC",
        "colab": {
          "base_uri": "https://localhost:8080/"
        },
        "outputId": "faff573f-8631-4398-cc8e-9c50d42e25c8"
      },
      "source": [
        "dist_lI_N(data1[0,:],data1[1,:])"
      ],
      "execution_count": null,
      "outputs": [
        {
          "output_type": "execute_result",
          "data": {
            "text/plain": [
              "3"
            ]
          },
          "metadata": {},
          "execution_count": 64
        }
      ]
    },
    {
      "cell_type": "code",
      "metadata": {
        "id": "ZC89lwqRffNI"
      },
      "source": [
        "def dist_lI_N(p1,p2):\n",
        "    for i in range(len(p1)):\n",
        "        sum = np.maximum(np.abs(p1[i] - p2[i]),np.abs(p1[i] - p2[i]))\n",
        "    return  (sum)"
      ],
      "execution_count": null,
      "outputs": []
    },
    {
      "cell_type": "code",
      "metadata": {
        "id": "zSdBruC4fhj-",
        "colab": {
          "base_uri": "https://localhost:8080/"
        },
        "outputId": "5717bd3e-9882-4e69-d646-a9170174f14b"
      },
      "source": [
        "dist_lI_N(data1[0,:],data1[1,:])"
      ],
      "execution_count": null,
      "outputs": [
        {
          "output_type": "execute_result",
          "data": {
            "text/plain": [
              "3"
            ]
          },
          "metadata": {},
          "execution_count": 66
        }
      ]
    },
    {
      "cell_type": "code",
      "metadata": {
        "id": "Umnfe5mjfjd4",
        "colab": {
          "base_uri": "https://localhost:8080/"
        },
        "outputId": "ed34262c-76ca-402c-a45f-952d3618e602"
      },
      "source": [
        "# 3. Function คำนวณ Distance Matrix ด้วย Euclidean Distance\n",
        "from scipy.spatial import distance\n",
        "data1 = np.array([[1,2],[3,5],[2,0],[4,5]])\n",
        "d = distance.euclidean([1,3,2,4],[2,5,0,5]) \n",
        "#([P1 ตัวหน้าทุกตัว],[P2 ตัวหลังทุกตัว])\n",
        "print(d)"
      ],
      "execution_count": null,
      "outputs": [
        {
          "output_type": "stream",
          "name": "stdout",
          "text": [
            "3.1622776601683795\n"
          ]
        }
      ]
    },
    {
      "cell_type": "markdown",
      "metadata": {
        "id": "AB9CCTaYMB82"
      },
      "source": [
        "Function คำนวณ L- ∞  ของ ข้อมูล N dimensions"
      ]
    },
    {
      "cell_type": "code",
      "metadata": {
        "id": "twvCQU3u4yUb"
      },
      "source": [
        "def dist_l1_N(p1,p2):\n",
        "    maxv = -1000\n",
        "    for i in range(len(p1)):\n",
        "        this_dist = np.abs(p1[i] - p2[i]) \n",
        "        if this_dist > maxv: \n",
        "           maxv = this_dist\n",
        "    return maxv"
      ],
      "execution_count": null,
      "outputs": []
    },
    {
      "cell_type": "code",
      "metadata": {
        "id": "Kbm_XOvAJylI",
        "colab": {
          "base_uri": "https://localhost:8080/"
        },
        "outputId": "9fa6f6aa-d580-4c58-88fd-bb2d37f94482"
      },
      "source": [
        "dist_l1_N(data1[0,:],data1[2,:])"
      ],
      "execution_count": null,
      "outputs": [
        {
          "output_type": "execute_result",
          "data": {
            "text/plain": [
              "2"
            ]
          },
          "metadata": {},
          "execution_count": 69
        }
      ]
    },
    {
      "cell_type": "code",
      "metadata": {
        "id": "lYbEXJhwKDdR",
        "colab": {
          "base_uri": "https://localhost:8080/"
        },
        "outputId": "7836a7ea-d660-4922-d025-994f347da030"
      },
      "source": [
        "dist_l1_N([-20,2,7],[0,5,9])"
      ],
      "execution_count": null,
      "outputs": [
        {
          "output_type": "execute_result",
          "data": {
            "text/plain": [
              "20"
            ]
          },
          "metadata": {},
          "execution_count": 70
        }
      ]
    },
    {
      "cell_type": "markdown",
      "metadata": {
        "id": "f8OTGQFCMHv1"
      },
      "source": [
        "Function คำนวณ Distance Matrix ด้วย Euclidean Distance"
      ]
    },
    {
      "cell_type": "code",
      "metadata": {
        "id": "2xQAIMltKjrF"
      },
      "source": [
        "def dist_mat_end(data):\n",
        "      d_mat = np.zeros((data.shape[0],data.shape[0]))\n",
        "      for i in range(data.shape[0]):\n",
        "           for j in range(data.shape[0]):\n",
        "                d_mat[i,j] = dist_l1_N(data[i,:],data[j,:])\n",
        "      return d_mat         "
      ],
      "execution_count": null,
      "outputs": []
    },
    {
      "cell_type": "code",
      "metadata": {
        "id": "LhoSHw_GNoTW",
        "colab": {
          "base_uri": "https://localhost:8080/"
        },
        "outputId": "24be4c8e-ab30-4c6f-9133-161065b69aab"
      },
      "source": [
        "dist_mat_end(data1)"
      ],
      "execution_count": null,
      "outputs": [
        {
          "output_type": "execute_result",
          "data": {
            "text/plain": [
              "array([[0., 3., 2., 3.],\n",
              "       [3., 0., 5., 1.],\n",
              "       [2., 5., 0., 5.],\n",
              "       [3., 1., 5., 0.]])"
            ]
          },
          "metadata": {},
          "execution_count": 72
        }
      ]
    },
    {
      "cell_type": "markdown",
      "metadata": {
        "id": "orR2fLg3t2Pv"
      },
      "source": [
        "### Distance of Binary Value"
      ]
    },
    {
      "cell_type": "markdown",
      "metadata": {
        "id": "8f3NLjTyk0bz"
      },
      "source": [
        "create table\n",
        "![Screenshot 2021-09-14 113104.png](data:image/png;base64,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)"
      ]
    },
    {
      "cell_type": "code",
      "metadata": {
        "id": "9MA_kMDIoRJf"
      },
      "source": [
        "import pandas as pd"
      ],
      "execution_count": null,
      "outputs": []
    },
    {
      "cell_type": "code",
      "metadata": {
        "id": "yeO5RzEmNuuX",
        "colab": {
          "base_uri": "https://localhost:8080/",
          "height": 141
        },
        "outputId": "445bfb0e-644a-45bf-e14c-d490fbd385a1"
      },
      "source": [
        "records = [['Jack',1,1,0,1,0,0,0],\n",
        "                ['Mary',0,1,0,1,0,1,0],\n",
        "                ['Jim',1,1,1,0,0,0,0]]\n",
        "labels = ['Name','Gender','Fever','Cough','Test-1','Test-2','Test-3','Test-4']\n",
        "\n",
        "binary_table = pd.DataFrame.from_records(records,columns = labels)\n",
        "binary_table"
      ],
      "execution_count": null,
      "outputs": [
        {
          "output_type": "execute_result",
          "data": {
            "text/html": [
              "<div>\n",
              "<style scoped>\n",
              "    .dataframe tbody tr th:only-of-type {\n",
              "        vertical-align: middle;\n",
              "    }\n",
              "\n",
              "    .dataframe tbody tr th {\n",
              "        vertical-align: top;\n",
              "    }\n",
              "\n",
              "    .dataframe thead th {\n",
              "        text-align: right;\n",
              "    }\n",
              "</style>\n",
              "<table border=\"1\" class=\"dataframe\">\n",
              "  <thead>\n",
              "    <tr style=\"text-align: right;\">\n",
              "      <th></th>\n",
              "      <th>Name</th>\n",
              "      <th>Gender</th>\n",
              "      <th>Fever</th>\n",
              "      <th>Cough</th>\n",
              "      <th>Test-1</th>\n",
              "      <th>Test-2</th>\n",
              "      <th>Test-3</th>\n",
              "      <th>Test-4</th>\n",
              "    </tr>\n",
              "  </thead>\n",
              "  <tbody>\n",
              "    <tr>\n",
              "      <th>0</th>\n",
              "      <td>Jack</td>\n",
              "      <td>1</td>\n",
              "      <td>1</td>\n",
              "      <td>0</td>\n",
              "      <td>1</td>\n",
              "      <td>0</td>\n",
              "      <td>0</td>\n",
              "      <td>0</td>\n",
              "    </tr>\n",
              "    <tr>\n",
              "      <th>1</th>\n",
              "      <td>Mary</td>\n",
              "      <td>0</td>\n",
              "      <td>1</td>\n",
              "      <td>0</td>\n",
              "      <td>1</td>\n",
              "      <td>0</td>\n",
              "      <td>1</td>\n",
              "      <td>0</td>\n",
              "    </tr>\n",
              "    <tr>\n",
              "      <th>2</th>\n",
              "      <td>Jim</td>\n",
              "      <td>1</td>\n",
              "      <td>1</td>\n",
              "      <td>1</td>\n",
              "      <td>0</td>\n",
              "      <td>0</td>\n",
              "      <td>0</td>\n",
              "      <td>0</td>\n",
              "    </tr>\n",
              "  </tbody>\n",
              "</table>\n",
              "</div>"
            ],
            "text/plain": [
              "   Name  Gender  Fever  Cough  Test-1  Test-2  Test-3  Test-4\n",
              "0  Jack       1      1      0       1       0       0       0\n",
              "1  Mary       0      1      0       1       0       1       0\n",
              "2   Jim       1      1      1       0       0       0       0"
            ]
          },
          "metadata": {},
          "execution_count": 76
        }
      ]
    },
    {
      "cell_type": "code",
      "metadata": {
        "id": "bjA_GvCnofdH"
      },
      "source": [
        "def dist_binary_symmetric(p1,p2):\n",
        "    q = 0.\n",
        "    r = 0.\n",
        "    s = 0.\n",
        "    t = 0.\n",
        "    for i in range(len(p1)):\n",
        "        \n",
        "        if (p1[i] == 1) and (p2[i] == 1):\n",
        "            q = q + 1\n",
        "        \n",
        "        if (p1[i] == 0) and (p2[i] == 1):\n",
        "            r = r + 1\n",
        "        \n",
        "        if (p1[i] == 1) and (p2[i] == 0):\n",
        "            s = s + 1\n",
        "\n",
        "        if (p1[i] == 0) and (p2[i] == 0):\n",
        "            t = t + 1\n",
        "    return (r+s)/(q+r+s+t)"
      ],
      "execution_count": null,
      "outputs": []
    },
    {
      "cell_type": "code",
      "metadata": {
        "id": "9OWB0zEXtdNV",
        "colab": {
          "base_uri": "https://localhost:8080/"
        },
        "outputId": "9c5e2d31-874c-400f-81a8-da9d0c46a503"
      },
      "source": [
        "dist_binary_symmetric(binary_table.iloc[0,1:],binary_table.iloc[1,1:])"
      ],
      "execution_count": null,
      "outputs": [
        {
          "output_type": "execute_result",
          "data": {
            "text/plain": [
              "0.2857142857142857"
            ]
          },
          "metadata": {},
          "execution_count": 81
        }
      ]
    }
  ]
}